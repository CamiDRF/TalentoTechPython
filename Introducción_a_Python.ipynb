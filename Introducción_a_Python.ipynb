{
  "nbformat": 4,
  "nbformat_minor": 0,
  "metadata": {
    "colab": {
      "provenance": [],
      "mount_file_id": "12ZIzVNK9JCYS2Bsjdy9bE0gBJRCzyk9N",
      "authorship_tag": "ABX9TyOZK1kkeC/KVK3GDvrLDmRE",
      "include_colab_link": true
    },
    "kernelspec": {
      "name": "python3",
      "display_name": "Python 3"
    },
    "language_info": {
      "name": "python"
    }
  },
  "cells": [
    {
      "cell_type": "markdown",
      "metadata": {
        "id": "view-in-github",
        "colab_type": "text"
      },
      "source": [
        "<a href=\"https://colab.research.google.com/github/CamiDRF/TalentoTechPython/blob/TalentoTechPythonBranch/Introducci%C3%B3n_a_Python.ipynb\" target=\"_parent\"><img src=\"https://colab.research.google.com/assets/colab-badge.svg\" alt=\"Open In Colab\"/></a>"
      ]
    },
    {
      "cell_type": "code",
      "execution_count": null,
      "metadata": {
        "id": "eooBdWKhZ-mh"
      },
      "outputs": [],
      "source": []
    },
    {
      "cell_type": "code",
      "source": [],
      "metadata": {
        "id": "VUyqoG5svium"
      },
      "execution_count": null,
      "outputs": []
    },
    {
      "cell_type": "markdown",
      "source": [
        "# Introducción"
      ],
      "metadata": {
        "id": "ktkHQP52bK_6"
      }
    },
    {
      "cell_type": "code",
      "source": [
        "#Declaracion de variables\n",
        "a=2\n",
        "b=3\n",
        "c=a+b\n",
        "print (type (a))\n",
        "print(c)"
      ],
      "metadata": {
        "colab": {
          "base_uri": "https://localhost:8080/"
        },
        "id": "wyjIm0YUbTQy",
        "outputId": "c1753382-5f38-4d4b-8218-f8f732bd91eb"
      },
      "execution_count": null,
      "outputs": [
        {
          "output_type": "stream",
          "name": "stdout",
          "text": [
            "<class 'int'>\n",
            "5\n"
          ]
        }
      ]
    },
    {
      "cell_type": "code",
      "source": [
        "#Introduccion a Pandas12\n",
        "import pandas as pd\n",
        "import sqlite3\n",
        "\n",
        "#Conexion a la base de datos\n",
        "from google.colab import drive\n",
        "drive.mount('/content/drive')"
      ],
      "metadata": {
        "colab": {
          "base_uri": "https://localhost:8080/"
        },
        "id": "Rfv1ZhoXcNux",
        "outputId": "06f521b2-7834-4316-fb7e-56cfc77c658b"
      },
      "execution_count": null,
      "outputs": [
        {
          "output_type": "stream",
          "name": "stdout",
          "text": [
            "Drive already mounted at /content/drive; to attempt to forcibly remount, call drive.mount(\"/content/drive\", force_remount=True).\n"
          ]
        }
      ]
    },
    {
      "cell_type": "code",
      "source": [
        "edad = input(\"Ingresa tu edad: \")\n",
        "edad = int(edad)\n",
        "if edad < 14:\n",
        "  print(\"Es menor de edad\")\n",
        "else:\n",
        "  print(\"Es mayor de edad\")"
      ],
      "metadata": {
        "colab": {
          "base_uri": "https://localhost:8080/"
        },
        "id": "ODuulACZeTJu",
        "outputId": "60e3a4f5-e7c3-42bd-a123-4714116a642b"
      },
      "execution_count": null,
      "outputs": [
        {
          "output_type": "stream",
          "name": "stdout",
          "text": [
            "Ingresa tu edad: 45\n",
            "Es mayor de edad\n"
          ]
        }
      ]
    },
    {
      "cell_type": "code",
      "source": [
        "#Calculo de triagulo\n",
        "base = input(\"Ingresa la base del triangulo: \")\n",
        "base = int(base)\n",
        "altura = input(\"Ingresa la altura del triangulo: \")\n",
        "altura = int(altura)\n",
        "area = (base * altura)/2\n",
        "\n",
        "if base != altura:\n",
        "  print(\"No es un triagulo equilatero\")\n",
        "else:\n",
        "  print(\"Es un triangulo equilatero\")\n",
        "\n",
        "print(\"El area del triangulo es: \", area)"
      ],
      "metadata": {
        "colab": {
          "base_uri": "https://localhost:8080/"
        },
        "id": "t7lz69vZePQ2",
        "outputId": "64557a04-3e3d-427c-80e6-e22ba549231b"
      },
      "execution_count": null,
      "outputs": [
        {
          "output_type": "stream",
          "name": "stdout",
          "text": [
            "Ingresa la base del triangulo: 32\n",
            "Ingresa la altura del triangulo: 23\n",
            "No es un triagulo equilatero\n",
            "El area del triangulo es:  368.0\n"
          ]
        }
      ]
    },
    {
      "cell_type": "code",
      "source": [
        "#Promedio de edad de cuatro personas\n",
        "p1 = int(input(\"Ingresa la edad de la primera persona: \"))\n",
        "p2 = int(input(\"Ingresa la edad de la segunda persona: \"))\n",
        "p3 = int(input(\"Ingresa la edad de la tercera persona: \"))\n",
        "p4 = int(input(\"Ingresa la edad de la cuarta persona: \"))\n",
        "promedioEdad = p1 + p2 + p3 + p4\n",
        "print(\"El promedio de edad de las cuatro personas es: \", promedioEdad/4)"
      ],
      "metadata": {
        "colab": {
          "base_uri": "https://localhost:8080/"
        },
        "id": "qOkYIxGpkdkF",
        "outputId": "e5d605f8-233c-4892-a69c-5612d6963778"
      },
      "execution_count": null,
      "outputs": [
        {
          "output_type": "stream",
          "name": "stdout",
          "text": [
            "Ingresa la edad de la primera persona: 12\n",
            "Ingresa la edad de la segunda persona: 12\n",
            "Ingresa la edad de la tercera persona: 12\n",
            "Ingresa la edad de la cuarta persona: 12\n",
            "El promedio de edad de las cuatro personas es:  12.0\n"
          ]
        }
      ]
    },
    {
      "cell_type": "markdown",
      "source": [],
      "metadata": {
        "id": "5keBrsIDlECr"
      }
    },
    {
      "cell_type": "code",
      "source": [
        "#Promedio edad N personas\n",
        "promedioEdad = 0.0\n",
        "n = int(input(\"Ingresa la cantidad de personas: \"))\n",
        "for i in range(n):\n",
        "  edad = int(input(\"Ingresa la edad de la persona: \"))\n",
        "  promedioEdad = promedioEdad + edad\n",
        "print(\"El promedio de edad de las personas es: \", promedioEdad/n)\n"
      ],
      "metadata": {
        "id": "YGY-i7qleE_k",
        "colab": {
          "base_uri": "https://localhost:8080/",
          "height": 245
        },
        "outputId": "6ad62e16-a5b4-4806-d542-0fb7eecf5d63"
      },
      "execution_count": null,
      "outputs": [
        {
          "name": "stdout",
          "output_type": "stream",
          "text": [
            "Ingresa la cantidad de personas: 12\n",
            "Ingresa la edad de la persona: \n"
          ]
        },
        {
          "output_type": "error",
          "ename": "ValueError",
          "evalue": "invalid literal for int() with base 10: ''",
          "traceback": [
            "\u001b[0;31m---------------------------------------------------------------------------\u001b[0m",
            "\u001b[0;31mValueError\u001b[0m                                Traceback (most recent call last)",
            "\u001b[0;32m<ipython-input-6-3eea5a265a6f>\u001b[0m in \u001b[0;36m<cell line: 0>\u001b[0;34m()\u001b[0m\n\u001b[1;32m      3\u001b[0m \u001b[0mn\u001b[0m \u001b[0;34m=\u001b[0m \u001b[0mint\u001b[0m\u001b[0;34m(\u001b[0m\u001b[0minput\u001b[0m\u001b[0;34m(\u001b[0m\u001b[0;34m\"Ingresa la cantidad de personas: \"\u001b[0m\u001b[0;34m)\u001b[0m\u001b[0;34m)\u001b[0m\u001b[0;34m\u001b[0m\u001b[0;34m\u001b[0m\u001b[0m\n\u001b[1;32m      4\u001b[0m \u001b[0;32mfor\u001b[0m \u001b[0mi\u001b[0m \u001b[0;32min\u001b[0m \u001b[0mrange\u001b[0m\u001b[0;34m(\u001b[0m\u001b[0mn\u001b[0m\u001b[0;34m)\u001b[0m\u001b[0;34m:\u001b[0m\u001b[0;34m\u001b[0m\u001b[0;34m\u001b[0m\u001b[0m\n\u001b[0;32m----> 5\u001b[0;31m   \u001b[0medad\u001b[0m \u001b[0;34m=\u001b[0m \u001b[0mint\u001b[0m\u001b[0;34m(\u001b[0m\u001b[0minput\u001b[0m\u001b[0;34m(\u001b[0m\u001b[0;34m\"Ingresa la edad de la persona: \"\u001b[0m\u001b[0;34m)\u001b[0m\u001b[0;34m)\u001b[0m\u001b[0;34m\u001b[0m\u001b[0;34m\u001b[0m\u001b[0m\n\u001b[0m\u001b[1;32m      6\u001b[0m   \u001b[0mpromedioEdad\u001b[0m \u001b[0;34m=\u001b[0m \u001b[0mpromedioEdad\u001b[0m \u001b[0;34m+\u001b[0m \u001b[0medad\u001b[0m\u001b[0;34m\u001b[0m\u001b[0;34m\u001b[0m\u001b[0m\n\u001b[1;32m      7\u001b[0m \u001b[0mprint\u001b[0m\u001b[0;34m(\u001b[0m\u001b[0;34m\"El promedio de edad de las personas es: \"\u001b[0m\u001b[0;34m,\u001b[0m \u001b[0mpromedioEdad\u001b[0m\u001b[0;34m/\u001b[0m\u001b[0mn\u001b[0m\u001b[0;34m)\u001b[0m\u001b[0;34m\u001b[0m\u001b[0;34m\u001b[0m\u001b[0m\n",
            "\u001b[0;31mValueError\u001b[0m: invalid literal for int() with base 10: ''"
          ]
        }
      ]
    },
    {
      "cell_type": "code",
      "source": [
        "#Realizae un algoritmo para comparar  las areas de un triagulo y un cuadraddo\n",
        "#Al indicar cual de ellas es mayor\n",
        "\n",
        "baseTriangulo = int(input(\"Ingresa la base del triangulo: \"))\n",
        "alturaTriangulo = int(input(\"Ingresa la altura del triangulo: \"))\n",
        "areaTriangulo = float((baseTriangulo * alturaTriangulo) / 2)\n",
        "\n",
        "baseCuadrado = int(input(\"Ingresa la base del cuadrado: \"))\n",
        "areaCuadrado = baseCuadrado * baseCuadrado\n",
        "\n",
        "print(\"El area del triangulo es: \", areaTriangulo)\n",
        "print(\"El area del cuadrado es: \", areaCuadrado)\n",
        "\n",
        "if areaTriangulo > areaCuadrado:\n",
        "  print(\"El area del tringulo es mayor\")\n",
        "else:\n",
        "  if areaCuadrado > areaTriangulo:\n",
        "    print(\"El area del cuadrado es mayor\")\n",
        "  else:\n",
        "    print(\"Los areas son iguales\")\n"
      ],
      "metadata": {
        "id": "KDfQ7A2pnFwz"
      },
      "execution_count": null,
      "outputs": []
    },
    {
      "cell_type": "code",
      "source": [
        "#Escriba un program qiue pida al usuario un numero entero y muestre por pantalla un triagunlo rectanculo\n",
        "\n",
        "n=int(input(\"Ingresa un numero entero: \"))\n",
        "for i in range(n):\n",
        "  for j in range(i+1):\n",
        "    print(\"*\", end=\"\")\n",
        "  print(\"\")"
      ],
      "metadata": {
        "id": "64LmGoW27rl_"
      },
      "execution_count": null,
      "outputs": []
    },
    {
      "cell_type": "code",
      "source": [
        "#Escriba un program qiue pida al usuario un numero entero y muestre por pantalla un triagunlo rectanculo inverso\n",
        "\n",
        "n=int(input(\"Ingresa un numero entero: \"))\n",
        "for i in range(n):\n",
        "  for j in range(n-i):\n",
        "    print(\"*\", end=\"\")\n",
        "  print(\"\")\n",
        "\n"
      ],
      "metadata": {
        "id": "A5Mn8CkdCBGR"
      },
      "execution_count": null,
      "outputs": []
    },
    {
      "cell_type": "code",
      "source": [
        "# Imprima la tabla de n numero hasta el 10\n",
        "n=int(input(\"Ingresa un numero entero: \"))\n",
        "for i in range(1, 11):\n",
        "  print(n, \"x\", i, \"=\", n*i)"
      ],
      "metadata": {
        "id": "EiP0hRWIB8j3"
      },
      "execution_count": null,
      "outputs": []
    },
    {
      "cell_type": "code",
      "source": [],
      "metadata": {
        "id": "7TOob7nvmvtU"
      },
      "execution_count": null,
      "outputs": []
    },
    {
      "cell_type": "markdown",
      "source": [
        "# Estructura de datos"
      ],
      "metadata": {
        "id": "USAjqKbEnJpk"
      }
    },
    {
      "cell_type": "code",
      "source": [
        "a = [2,3]\n",
        "type(a)"
      ],
      "metadata": {
        "id": "EvckLhJrnOJU"
      },
      "execution_count": null,
      "outputs": []
    },
    {
      "cell_type": "code",
      "source": [
        "listaFrutas = [\"piña\",\"pera\",\"mango\",\"uvas\"]\n",
        "listaFrutas"
      ],
      "metadata": {
        "id": "U_cgVXh2pJGk"
      },
      "execution_count": null,
      "outputs": []
    },
    {
      "cell_type": "code",
      "source": [
        "listaFrutas.append(input(\"Ingresa una fruta: \"))\n",
        "listaFrutas\n",
        "print (listaFrutas[2])\n",
        "print (listaFrutas)"
      ],
      "metadata": {
        "id": "qlDEB9KZpTVE"
      },
      "execution_count": null,
      "outputs": []
    },
    {
      "cell_type": "code",
      "source": [
        "#Crea un algoritmo que pida una cantidad N de nombres con apellido\n",
        "\n",
        "cantidadNombres = int(input(\"Ingresa la cantidad de nombres: \"))\n",
        "listaNombres = []\n",
        "for i in range(cantidadNombres):\n",
        "  listaNombres.append(input(\"Ingresa un nombre: \"))\n",
        "  while listaNombres[i].isdigit():\n",
        "    print(\"No es un nombre valido\")\n",
        "    listaNombres[i] = input(\"Ingresa un nombre: \")\n",
        "print(listaNombres)\n",
        "\n",
        "# Separa los nombres de los apellidos\n",
        "\n",
        "nombres = []\n",
        "apellidos = []\n",
        "for i in range(len(listaNombres)):\n",
        "  nombres.append(listaNombres[i].split()[0])\n",
        "  apellidos.append(listaNombres[i].split()[1])\n",
        "print(nombres)\n",
        "print(apellidos)\n",
        "\n"
      ],
      "metadata": {
        "id": "wD0vkp3RqgWt"
      },
      "execution_count": null,
      "outputs": []
    },
    {
      "cell_type": "code",
      "source": [],
      "metadata": {
        "id": "9QbuG2kZrPTE"
      },
      "execution_count": null,
      "outputs": []
    },
    {
      "cell_type": "code",
      "source": [
        "lista1 = [23,21]\n",
        "lista1.insert(1,3)\n",
        "print(lista1)\n"
      ],
      "metadata": {
        "id": "_1sGBHh2t4AX"
      },
      "execution_count": null,
      "outputs": []
    },
    {
      "cell_type": "code",
      "source": [
        "nombreCompleto=[\"Camilo Florez\",\"David Perez\"]\n",
        "nombre=[]\n",
        "apellido=[]\n",
        "for i in range(len(nombreCompleto)):\n",
        "  nombre.append(nombreCompleto[i].split()[0])\n",
        "  apellido.append(nombreCompleto[i].split()[1])\n",
        "print(len(nombreCompleto))\n",
        "print(nombre)\n",
        "print(apellido)"
      ],
      "metadata": {
        "id": "0LG8ankpt8Vw"
      },
      "execution_count": null,
      "outputs": []
    },
    {
      "cell_type": "code",
      "source": [
        "#Tuplas\n",
        "\n",
        "tupla = (2,3,6)\n",
        "tupla\n"
      ],
      "metadata": {
        "id": "sECJKLJz0X0B"
      },
      "execution_count": null,
      "outputs": []
    },
    {
      "cell_type": "code",
      "source": [
        "# Diccionarios\n",
        "\n",
        "diccionario = {\"nombre\":[\"Camilo\",\"Pedro\",\"Juan\"],\"apellido\":[\"Florez\",\"Sanchez\"]}\n",
        "diccionario[\"apellido\"][0]"
      ],
      "metadata": {
        "id": "PUq0zkqqsZ6g"
      },
      "execution_count": null,
      "outputs": []
    },
    {
      "cell_type": "code",
      "source": [
        "#Crear un adiccionariocon los datos de una persona (nombre, apellido, edad y direccion)\n",
        "\n",
        "strNombre = input(\"Ingresa tu nombre: \")\n",
        "strApellido = input(\"Ingresa tu apellido: \")\n",
        "strEdad = input(\"Ingresa tu edad: \")\n",
        "strDireccion = input(\"Ingresa tu direccion: \")\n",
        "\n",
        "persona = {\"nombre\":strNombre,\"apellido\":strApellido,\"edad\":strEdad,\"direccion\":strDireccion}\n",
        "print(persona)"
      ],
      "metadata": {
        "id": "Kd-jZq_R2X92"
      },
      "execution_count": null,
      "outputs": []
    },
    {
      "cell_type": "code",
      "source": [
        "#Sets\n",
        "sets = {1, 3, 2, 9, 6}\n",
        "sets\n",
        "strSet = {\"c\", \"b\", \"z\", \"w\", \"k\", \"y\"}\n",
        "strSet"
      ],
      "metadata": {
        "id": "NTKD2So34cCP"
      },
      "execution_count": null,
      "outputs": []
    },
    {
      "cell_type": "code",
      "source": [
        "miTupla = tuple(\"\")\n",
        "type(miTupla)"
      ],
      "metadata": {
        "id": "KDTA_Ay64fjE"
      },
      "execution_count": null,
      "outputs": []
    },
    {
      "cell_type": "markdown",
      "source": [
        "# Pandas"
      ],
      "metadata": {
        "id": "XajTuKZWz3Jg"
      }
    },
    {
      "cell_type": "markdown",
      "source": [],
      "metadata": {
        "id": "uzyXRbaR4Aj3"
      }
    },
    {
      "cell_type": "code",
      "source": [
        "import pandas as pd #Importar Pandas\n",
        "import numpy as np # Importar libreria Numpy\n",
        "\n",
        "df = pd.read_csv(\"/content/drive/MyDrive/Talento Tech - Analisis de Datos/fuenteDatos/hurto_de_moto.csv\") # Lectura de archivo CSV en Google Colab"
      ],
      "metadata": {
        "colab": {
          "base_uri": "https://localhost:8080/"
        },
        "id": "faKeTE0cz4yB",
        "outputId": "617cf639-d713-4799-a748-23a8ca2b35a7"
      },
      "execution_count": 3,
      "outputs": [
        {
          "output_type": "stream",
          "name": "stderr",
          "text": [
            "<ipython-input-3-6ce70c9e9796>:4: DtypeWarning: Columns (25) have mixed types. Specify dtype option on import or set low_memory=False.\n",
            "  df = pd.read_csv(\"/content/drive/MyDrive/Talento Tech - Analisis de Datos/fuenteDatos/hurto_de_moto.csv\") # Lectura de archivo CSV en Google Colab\n"
          ]
        }
      ]
    },
    {
      "cell_type": "markdown",
      "source": [],
      "metadata": {
        "id": "SUoWX58Mz7Jm"
      }
    },
    {
      "cell_type": "code",
      "source": [
        "df.describe() # Muestra los datos descriptivos de las columnas con vaores numericos (cuenta, promedio, minimo, maximo)\n"
      ],
      "metadata": {
        "colab": {
          "base_uri": "https://localhost:8080/",
          "height": 300
        },
        "id": "hdNShZwzz6oJ",
        "outputId": "0648ef90-d3b3-4983-aa4b-3c84358fa06f"
      },
      "execution_count": null,
      "outputs": [
        {
          "output_type": "execute_result",
          "data": {
            "text/plain": [
              "       cantidad       latitud      longitud          edad        modelo\n",
              "count   86410.0  68963.000000  68963.000000  86410.000000  86410.000000\n",
              "mean        1.0      6.257591    -75.521848     29.635956   1425.347645\n",
              "std         0.0      0.030826      1.993248     10.773765    910.950978\n",
              "min         1.0      5.605000    -75.701329     -1.000000     -1.000000\n",
              "25%         1.0      6.241436    -75.588720     23.000000     -1.000000\n",
              "50%         1.0      6.257076    -75.570053     28.000000   2004.000000\n",
              "75%         1.0      6.277458    -75.558006     35.000000   2012.000000\n",
              "max         1.0      6.389618     -0.000678    122.000000   2029.000000"
            ],
            "text/html": [
              "\n",
              "  <div id=\"df-e247e82d-751e-422e-abc6-166840741fcf\" class=\"colab-df-container\">\n",
              "    <div>\n",
              "<style scoped>\n",
              "    .dataframe tbody tr th:only-of-type {\n",
              "        vertical-align: middle;\n",
              "    }\n",
              "\n",
              "    .dataframe tbody tr th {\n",
              "        vertical-align: top;\n",
              "    }\n",
              "\n",
              "    .dataframe thead th {\n",
              "        text-align: right;\n",
              "    }\n",
              "</style>\n",
              "<table border=\"1\" class=\"dataframe\">\n",
              "  <thead>\n",
              "    <tr style=\"text-align: right;\">\n",
              "      <th></th>\n",
              "      <th>cantidad</th>\n",
              "      <th>latitud</th>\n",
              "      <th>longitud</th>\n",
              "      <th>edad</th>\n",
              "      <th>modelo</th>\n",
              "    </tr>\n",
              "  </thead>\n",
              "  <tbody>\n",
              "    <tr>\n",
              "      <th>count</th>\n",
              "      <td>86410.0</td>\n",
              "      <td>68963.000000</td>\n",
              "      <td>68963.000000</td>\n",
              "      <td>86410.000000</td>\n",
              "      <td>86410.000000</td>\n",
              "    </tr>\n",
              "    <tr>\n",
              "      <th>mean</th>\n",
              "      <td>1.0</td>\n",
              "      <td>6.257591</td>\n",
              "      <td>-75.521848</td>\n",
              "      <td>29.635956</td>\n",
              "      <td>1425.347645</td>\n",
              "    </tr>\n",
              "    <tr>\n",
              "      <th>std</th>\n",
              "      <td>0.0</td>\n",
              "      <td>0.030826</td>\n",
              "      <td>1.993248</td>\n",
              "      <td>10.773765</td>\n",
              "      <td>910.950978</td>\n",
              "    </tr>\n",
              "    <tr>\n",
              "      <th>min</th>\n",
              "      <td>1.0</td>\n",
              "      <td>5.605000</td>\n",
              "      <td>-75.701329</td>\n",
              "      <td>-1.000000</td>\n",
              "      <td>-1.000000</td>\n",
              "    </tr>\n",
              "    <tr>\n",
              "      <th>25%</th>\n",
              "      <td>1.0</td>\n",
              "      <td>6.241436</td>\n",
              "      <td>-75.588720</td>\n",
              "      <td>23.000000</td>\n",
              "      <td>-1.000000</td>\n",
              "    </tr>\n",
              "    <tr>\n",
              "      <th>50%</th>\n",
              "      <td>1.0</td>\n",
              "      <td>6.257076</td>\n",
              "      <td>-75.570053</td>\n",
              "      <td>28.000000</td>\n",
              "      <td>2004.000000</td>\n",
              "    </tr>\n",
              "    <tr>\n",
              "      <th>75%</th>\n",
              "      <td>1.0</td>\n",
              "      <td>6.277458</td>\n",
              "      <td>-75.558006</td>\n",
              "      <td>35.000000</td>\n",
              "      <td>2012.000000</td>\n",
              "    </tr>\n",
              "    <tr>\n",
              "      <th>max</th>\n",
              "      <td>1.0</td>\n",
              "      <td>6.389618</td>\n",
              "      <td>-0.000678</td>\n",
              "      <td>122.000000</td>\n",
              "      <td>2029.000000</td>\n",
              "    </tr>\n",
              "  </tbody>\n",
              "</table>\n",
              "</div>\n",
              "    <div class=\"colab-df-buttons\">\n",
              "\n",
              "  <div class=\"colab-df-container\">\n",
              "    <button class=\"colab-df-convert\" onclick=\"convertToInteractive('df-e247e82d-751e-422e-abc6-166840741fcf')\"\n",
              "            title=\"Convert this dataframe to an interactive table.\"\n",
              "            style=\"display:none;\">\n",
              "\n",
              "  <svg xmlns=\"http://www.w3.org/2000/svg\" height=\"24px\" viewBox=\"0 -960 960 960\">\n",
              "    <path d=\"M120-120v-720h720v720H120Zm60-500h600v-160H180v160Zm220 220h160v-160H400v160Zm0 220h160v-160H400v160ZM180-400h160v-160H180v160Zm440 0h160v-160H620v160ZM180-180h160v-160H180v160Zm440 0h160v-160H620v160Z\"/>\n",
              "  </svg>\n",
              "    </button>\n",
              "\n",
              "  <style>\n",
              "    .colab-df-container {\n",
              "      display:flex;\n",
              "      gap: 12px;\n",
              "    }\n",
              "\n",
              "    .colab-df-convert {\n",
              "      background-color: #E8F0FE;\n",
              "      border: none;\n",
              "      border-radius: 50%;\n",
              "      cursor: pointer;\n",
              "      display: none;\n",
              "      fill: #1967D2;\n",
              "      height: 32px;\n",
              "      padding: 0 0 0 0;\n",
              "      width: 32px;\n",
              "    }\n",
              "\n",
              "    .colab-df-convert:hover {\n",
              "      background-color: #E2EBFA;\n",
              "      box-shadow: 0px 1px 2px rgba(60, 64, 67, 0.3), 0px 1px 3px 1px rgba(60, 64, 67, 0.15);\n",
              "      fill: #174EA6;\n",
              "    }\n",
              "\n",
              "    .colab-df-buttons div {\n",
              "      margin-bottom: 4px;\n",
              "    }\n",
              "\n",
              "    [theme=dark] .colab-df-convert {\n",
              "      background-color: #3B4455;\n",
              "      fill: #D2E3FC;\n",
              "    }\n",
              "\n",
              "    [theme=dark] .colab-df-convert:hover {\n",
              "      background-color: #434B5C;\n",
              "      box-shadow: 0px 1px 3px 1px rgba(0, 0, 0, 0.15);\n",
              "      filter: drop-shadow(0px 1px 2px rgba(0, 0, 0, 0.3));\n",
              "      fill: #FFFFFF;\n",
              "    }\n",
              "  </style>\n",
              "\n",
              "    <script>\n",
              "      const buttonEl =\n",
              "        document.querySelector('#df-e247e82d-751e-422e-abc6-166840741fcf button.colab-df-convert');\n",
              "      buttonEl.style.display =\n",
              "        google.colab.kernel.accessAllowed ? 'block' : 'none';\n",
              "\n",
              "      async function convertToInteractive(key) {\n",
              "        const element = document.querySelector('#df-e247e82d-751e-422e-abc6-166840741fcf');\n",
              "        const dataTable =\n",
              "          await google.colab.kernel.invokeFunction('convertToInteractive',\n",
              "                                                    [key], {});\n",
              "        if (!dataTable) return;\n",
              "\n",
              "        const docLinkHtml = 'Like what you see? Visit the ' +\n",
              "          '<a target=\"_blank\" href=https://colab.research.google.com/notebooks/data_table.ipynb>data table notebook</a>'\n",
              "          + ' to learn more about interactive tables.';\n",
              "        element.innerHTML = '';\n",
              "        dataTable['output_type'] = 'display_data';\n",
              "        await google.colab.output.renderOutput(dataTable, element);\n",
              "        const docLink = document.createElement('div');\n",
              "        docLink.innerHTML = docLinkHtml;\n",
              "        element.appendChild(docLink);\n",
              "      }\n",
              "    </script>\n",
              "  </div>\n",
              "\n",
              "\n",
              "<div id=\"df-d7d245b3-7c6b-4d8a-97be-b878f7284ae9\">\n",
              "  <button class=\"colab-df-quickchart\" onclick=\"quickchart('df-d7d245b3-7c6b-4d8a-97be-b878f7284ae9')\"\n",
              "            title=\"Suggest charts\"\n",
              "            style=\"display:none;\">\n",
              "\n",
              "<svg xmlns=\"http://www.w3.org/2000/svg\" height=\"24px\"viewBox=\"0 0 24 24\"\n",
              "     width=\"24px\">\n",
              "    <g>\n",
              "        <path d=\"M19 3H5c-1.1 0-2 .9-2 2v14c0 1.1.9 2 2 2h14c1.1 0 2-.9 2-2V5c0-1.1-.9-2-2-2zM9 17H7v-7h2v7zm4 0h-2V7h2v10zm4 0h-2v-4h2v4z\"/>\n",
              "    </g>\n",
              "</svg>\n",
              "  </button>\n",
              "\n",
              "<style>\n",
              "  .colab-df-quickchart {\n",
              "      --bg-color: #E8F0FE;\n",
              "      --fill-color: #1967D2;\n",
              "      --hover-bg-color: #E2EBFA;\n",
              "      --hover-fill-color: #174EA6;\n",
              "      --disabled-fill-color: #AAA;\n",
              "      --disabled-bg-color: #DDD;\n",
              "  }\n",
              "\n",
              "  [theme=dark] .colab-df-quickchart {\n",
              "      --bg-color: #3B4455;\n",
              "      --fill-color: #D2E3FC;\n",
              "      --hover-bg-color: #434B5C;\n",
              "      --hover-fill-color: #FFFFFF;\n",
              "      --disabled-bg-color: #3B4455;\n",
              "      --disabled-fill-color: #666;\n",
              "  }\n",
              "\n",
              "  .colab-df-quickchart {\n",
              "    background-color: var(--bg-color);\n",
              "    border: none;\n",
              "    border-radius: 50%;\n",
              "    cursor: pointer;\n",
              "    display: none;\n",
              "    fill: var(--fill-color);\n",
              "    height: 32px;\n",
              "    padding: 0;\n",
              "    width: 32px;\n",
              "  }\n",
              "\n",
              "  .colab-df-quickchart:hover {\n",
              "    background-color: var(--hover-bg-color);\n",
              "    box-shadow: 0 1px 2px rgba(60, 64, 67, 0.3), 0 1px 3px 1px rgba(60, 64, 67, 0.15);\n",
              "    fill: var(--button-hover-fill-color);\n",
              "  }\n",
              "\n",
              "  .colab-df-quickchart-complete:disabled,\n",
              "  .colab-df-quickchart-complete:disabled:hover {\n",
              "    background-color: var(--disabled-bg-color);\n",
              "    fill: var(--disabled-fill-color);\n",
              "    box-shadow: none;\n",
              "  }\n",
              "\n",
              "  .colab-df-spinner {\n",
              "    border: 2px solid var(--fill-color);\n",
              "    border-color: transparent;\n",
              "    border-bottom-color: var(--fill-color);\n",
              "    animation:\n",
              "      spin 1s steps(1) infinite;\n",
              "  }\n",
              "\n",
              "  @keyframes spin {\n",
              "    0% {\n",
              "      border-color: transparent;\n",
              "      border-bottom-color: var(--fill-color);\n",
              "      border-left-color: var(--fill-color);\n",
              "    }\n",
              "    20% {\n",
              "      border-color: transparent;\n",
              "      border-left-color: var(--fill-color);\n",
              "      border-top-color: var(--fill-color);\n",
              "    }\n",
              "    30% {\n",
              "      border-color: transparent;\n",
              "      border-left-color: var(--fill-color);\n",
              "      border-top-color: var(--fill-color);\n",
              "      border-right-color: var(--fill-color);\n",
              "    }\n",
              "    40% {\n",
              "      border-color: transparent;\n",
              "      border-right-color: var(--fill-color);\n",
              "      border-top-color: var(--fill-color);\n",
              "    }\n",
              "    60% {\n",
              "      border-color: transparent;\n",
              "      border-right-color: var(--fill-color);\n",
              "    }\n",
              "    80% {\n",
              "      border-color: transparent;\n",
              "      border-right-color: var(--fill-color);\n",
              "      border-bottom-color: var(--fill-color);\n",
              "    }\n",
              "    90% {\n",
              "      border-color: transparent;\n",
              "      border-bottom-color: var(--fill-color);\n",
              "    }\n",
              "  }\n",
              "</style>\n",
              "\n",
              "  <script>\n",
              "    async function quickchart(key) {\n",
              "      const quickchartButtonEl =\n",
              "        document.querySelector('#' + key + ' button');\n",
              "      quickchartButtonEl.disabled = true;  // To prevent multiple clicks.\n",
              "      quickchartButtonEl.classList.add('colab-df-spinner');\n",
              "      try {\n",
              "        const charts = await google.colab.kernel.invokeFunction(\n",
              "            'suggestCharts', [key], {});\n",
              "      } catch (error) {\n",
              "        console.error('Error during call to suggestCharts:', error);\n",
              "      }\n",
              "      quickchartButtonEl.classList.remove('colab-df-spinner');\n",
              "      quickchartButtonEl.classList.add('colab-df-quickchart-complete');\n",
              "    }\n",
              "    (() => {\n",
              "      let quickchartButtonEl =\n",
              "        document.querySelector('#df-d7d245b3-7c6b-4d8a-97be-b878f7284ae9 button');\n",
              "      quickchartButtonEl.style.display =\n",
              "        google.colab.kernel.accessAllowed ? 'block' : 'none';\n",
              "    })();\n",
              "  </script>\n",
              "</div>\n",
              "\n",
              "    </div>\n",
              "  </div>\n"
            ],
            "application/vnd.google.colaboratory.intrinsic+json": {
              "type": "dataframe",
              "summary": "{\n  \"name\": \"df\",\n  \"rows\": 8,\n  \"fields\": [\n    {\n      \"column\": \"cantidad\",\n      \"properties\": {\n        \"dtype\": \"number\",\n        \"std\": 30550.24543740548,\n        \"min\": 0.0,\n        \"max\": 86410.0,\n        \"num_unique_values\": 3,\n        \"samples\": [\n          86410.0,\n          1.0,\n          0.0\n        ],\n        \"semantic_type\": \"\",\n        \"description\": \"\"\n      }\n    },\n    {\n      \"column\": \"latitud\",\n      \"properties\": {\n        \"dtype\": \"number\",\n        \"std\": 24380.23080894483,\n        \"min\": 0.030825867893839592,\n        \"max\": 68963.0,\n        \"num_unique_values\": 8,\n        \"samples\": [\n          6.2575912899757835,\n          6.25707609,\n          68963.0\n        ],\n        \"semantic_type\": \"\",\n        \"description\": \"\"\n      }\n    },\n    {\n      \"column\": \"longitud\",\n      \"properties\": {\n        \"dtype\": \"number\",\n        \"std\": 24401.11521872651,\n        \"min\": -75.70132864,\n        \"max\": 68963.0,\n        \"num_unique_values\": 8,\n        \"samples\": [\n          -75.52184754004438,\n          -75.57005316,\n          68963.0\n        ],\n        \"semantic_type\": \"\",\n        \"description\": \"\"\n      }\n    },\n    {\n      \"column\": \"edad\",\n      \"properties\": {\n        \"dtype\": \"number\",\n        \"std\": 30538.075027998682,\n        \"min\": -1.0,\n        \"max\": 86410.0,\n        \"num_unique_values\": 8,\n        \"samples\": [\n          29.635956486517763,\n          28.0,\n          86410.0\n        ],\n        \"semantic_type\": \"\",\n        \"description\": \"\"\n      }\n    },\n    {\n      \"column\": \"modelo\",\n      \"properties\": {\n        \"dtype\": \"number\",\n        \"std\": 30139.21071794925,\n        \"min\": -1.0,\n        \"max\": 86410.0,\n        \"num_unique_values\": 7,\n        \"samples\": [\n          86410.0,\n          1425.3476449485013,\n          2012.0\n        ],\n        \"semantic_type\": \"\",\n        \"description\": \"\"\n      }\n    }\n  ]\n}"
            }
          },
          "metadata": {},
          "execution_count": 12
        }
      ]
    },
    {
      "cell_type": "code",
      "source": [
        "df_primeros = df.head() #Mostrar los primeros 5 registros\n",
        "df_primeros"
      ],
      "metadata": {
        "id": "WBjHLkVq4RZ4"
      },
      "execution_count": null,
      "outputs": []
    },
    {
      "cell_type": "code",
      "source": [
        "df_ultimo = df.tail() #Mostrar los ultimos 5 registros\n",
        "df_ultimo"
      ],
      "metadata": {
        "id": "5MT0oHfE9yyJ"
      },
      "execution_count": null,
      "outputs": []
    },
    {
      "cell_type": "code",
      "source": [
        "df.info() #Muestra la informacion resumuda que contiene cada columna"
      ],
      "metadata": {
        "id": "Npzp3gAA9yJJ"
      },
      "execution_count": null,
      "outputs": []
    },
    {
      "cell_type": "code",
      "source": [
        "df.index\n",
        "df.columns #Muestra los nombres de las columnas"
      ],
      "metadata": {
        "id": "2dlUYvbGBjJD"
      },
      "execution_count": null,
      "outputs": []
    },
    {
      "cell_type": "code",
      "source": [],
      "metadata": {
        "id": "hgKXQUF9ByhT"
      },
      "execution_count": null,
      "outputs": []
    },
    {
      "cell_type": "markdown",
      "source": [
        "Limpieza de datos"
      ],
      "metadata": {
        "id": "aSnlq57zB2QV"
      }
    },
    {
      "cell_type": "code",
      "source": [
        "df=df.dropna() # Elimina los registros que tiene los NAN\n",
        "df"
      ],
      "metadata": {
        "id": "Iyp2xMHwB4c1"
      },
      "execution_count": null,
      "outputs": []
    },
    {
      "cell_type": "code",
      "source": [
        "df.isnull().count() #Muestra los valores nulos"
      ],
      "metadata": {
        "id": "GNHp7QUAB-Ki"
      },
      "execution_count": null,
      "outputs": []
    },
    {
      "cell_type": "code",
      "source": [
        "pd.unique(df.sexo) #Identifica los valores unicos en determinado campo"
      ],
      "metadata": {
        "id": "S-jqtYBCB9Vq"
      },
      "execution_count": null,
      "outputs": []
    },
    {
      "cell_type": "code",
      "source": [
        "pd.unique(df.estado_civil)"
      ],
      "metadata": {
        "id": "cW-jFJd5GRYT"
      },
      "execution_count": null,
      "outputs": []
    },
    {
      "cell_type": "code",
      "source": [
        "pd.unique(df.edad)\n"
      ],
      "metadata": {
        "id": "od-yj03JGsKM"
      },
      "execution_count": null,
      "outputs": []
    },
    {
      "cell_type": "code",
      "source": [
        "#Crea un codigo para consultar los registros de edad entre 18 y 30 años\n",
        "\n",
        "df[(df.edad >= 18) & (df.edad <= 19)]"
      ],
      "metadata": {
        "id": "rVjjgHYhHYBO"
      },
      "execution_count": null,
      "outputs": []
    },
    {
      "cell_type": "code",
      "source": [
        "pd.unique(df.nombre_barrio)"
      ],
      "metadata": {
        "id": "JmN8iv9DIXuo"
      },
      "execution_count": null,
      "outputs": []
    },
    {
      "cell_type": "code",
      "source": [
        "df=df.replace(\"Sin dato 3 Manrique\",\"Manrique\")"
      ],
      "metadata": {
        "id": "I3pxjVyDJen_"
      },
      "execution_count": null,
      "outputs": []
    },
    {
      "cell_type": "code",
      "source": [
        "!pip install skimpy # Instalador de skimpy"
      ],
      "metadata": {
        "id": "IcSXruGRlnOt"
      },
      "execution_count": null,
      "outputs": []
    },
    {
      "cell_type": "code",
      "source": [
        "\n",
        "from skimpy import skim\n",
        "skim(df)"
      ],
      "metadata": {
        "id": "Fsb0XCgclV87"
      },
      "execution_count": null,
      "outputs": []
    },
    {
      "cell_type": "code",
      "source": [
        "df.isnull().sum() #Identifica que valores nulos hay en cada campo y los suma"
      ],
      "metadata": {
        "id": "UbqBcX6WlVmk"
      },
      "execution_count": null,
      "outputs": []
    },
    {
      "cell_type": "code",
      "source": [
        "df_backup = df.copy() #Copia el dataframe\n",
        "df_backup"
      ],
      "metadata": {
        "id": "E3hDhmrwprY9"
      },
      "execution_count": null,
      "outputs": []
    },
    {
      "cell_type": "code",
      "source": [
        "df.info()"
      ],
      "metadata": {
        "id": "NK17aTIjqJlz"
      },
      "execution_count": null,
      "outputs": []
    },
    {
      "cell_type": "code",
      "source": [
        "df = df.astype({\"longitud\":\"float32\"})\n",
        "df.dtypes"
      ],
      "metadata": {
        "id": "rQOHZz3eqJSt"
      },
      "execution_count": null,
      "outputs": []
    },
    {
      "cell_type": "code",
      "source": [
        "df = df.astype({\"edad\":\"int32\"})\n",
        "df.dtypes\n",
        "df.info()"
      ],
      "metadata": {
        "id": "ZDU_MBq9zm4y"
      },
      "execution_count": null,
      "outputs": []
    },
    {
      "cell_type": "markdown",
      "source": [
        "Analisis de datos"
      ],
      "metadata": {
        "id": "0yORpH5S17W3"
      }
    },
    {
      "cell_type": "code",
      "source": [
        "hurtosBarrio = df.groupby(\"nombre_barrio\").size() #Ordena losregistros por barrio\n",
        "hurtosBarrio"
      ],
      "metadata": {
        "colab": {
          "base_uri": "https://localhost:8080/",
          "height": 490
        },
        "id": "FJqhGPAr1_zy",
        "outputId": "eba1a6b0-de48-4dce-841f-e63566a23833"
      },
      "execution_count": null,
      "outputs": [
        {
          "output_type": "execute_result",
          "data": {
            "text/plain": [
              "nombre_barrio\n",
              "Aguas Frias                                19\n",
              "Aldea Pablo VI                             24\n",
              "Alejandro Echavarría                      500\n",
              "Alejandría                                 43\n",
              "Alfonso López                             436\n",
              "                                         ... \n",
              "Área de expansión Altavista                23\n",
              "Área de expansión Belén                    20\n",
              "Área de expansión Calasanz                 20\n",
              "Área de expansión Pajarito                690\n",
              "Área de expansión San Antonio De Prado     54\n",
              "Length: 336, dtype: int64"
            ],
            "text/html": [
              "<div>\n",
              "<style scoped>\n",
              "    .dataframe tbody tr th:only-of-type {\n",
              "        vertical-align: middle;\n",
              "    }\n",
              "\n",
              "    .dataframe tbody tr th {\n",
              "        vertical-align: top;\n",
              "    }\n",
              "\n",
              "    .dataframe thead th {\n",
              "        text-align: right;\n",
              "    }\n",
              "</style>\n",
              "<table border=\"1\" class=\"dataframe\">\n",
              "  <thead>\n",
              "    <tr style=\"text-align: right;\">\n",
              "      <th></th>\n",
              "      <th>0</th>\n",
              "    </tr>\n",
              "    <tr>\n",
              "      <th>nombre_barrio</th>\n",
              "      <th></th>\n",
              "    </tr>\n",
              "  </thead>\n",
              "  <tbody>\n",
              "    <tr>\n",
              "      <th>Aguas Frias</th>\n",
              "      <td>19</td>\n",
              "    </tr>\n",
              "    <tr>\n",
              "      <th>Aldea Pablo VI</th>\n",
              "      <td>24</td>\n",
              "    </tr>\n",
              "    <tr>\n",
              "      <th>Alejandro Echavarría</th>\n",
              "      <td>500</td>\n",
              "    </tr>\n",
              "    <tr>\n",
              "      <th>Alejandría</th>\n",
              "      <td>43</td>\n",
              "    </tr>\n",
              "    <tr>\n",
              "      <th>Alfonso López</th>\n",
              "      <td>436</td>\n",
              "    </tr>\n",
              "    <tr>\n",
              "      <th>...</th>\n",
              "      <td>...</td>\n",
              "    </tr>\n",
              "    <tr>\n",
              "      <th>Área de expansión Altavista</th>\n",
              "      <td>23</td>\n",
              "    </tr>\n",
              "    <tr>\n",
              "      <th>Área de expansión Belén</th>\n",
              "      <td>20</td>\n",
              "    </tr>\n",
              "    <tr>\n",
              "      <th>Área de expansión Calasanz</th>\n",
              "      <td>20</td>\n",
              "    </tr>\n",
              "    <tr>\n",
              "      <th>Área de expansión Pajarito</th>\n",
              "      <td>690</td>\n",
              "    </tr>\n",
              "    <tr>\n",
              "      <th>Área de expansión San Antonio De Prado</th>\n",
              "      <td>54</td>\n",
              "    </tr>\n",
              "  </tbody>\n",
              "</table>\n",
              "<p>336 rows × 1 columns</p>\n",
              "</div><br><label><b>dtype:</b> int64</label>"
            ]
          },
          "metadata": {},
          "execution_count": 15
        }
      ]
    },
    {
      "cell_type": "code",
      "source": [
        "hurtosBarrio.sort_values(ascending=False) #Ordena los registros de mayor a menor"
      ],
      "metadata": {
        "id": "rQwjof_6266h"
      },
      "execution_count": null,
      "outputs": []
    },
    {
      "cell_type": "code",
      "source": [
        "hurtosSexo = df.groupby(\"sexo\").size() #Ordena los registros por sexo\n",
        "hurtosSexo"
      ],
      "metadata": {
        "colab": {
          "base_uri": "https://localhost:8080/",
          "height": 210
        },
        "id": "X6yakcQ79hqP",
        "outputId": "ea54d4d6-bad9-42a0-f19e-68d4a8c3ee02"
      },
      "execution_count": null,
      "outputs": [
        {
          "output_type": "execute_result",
          "data": {
            "text/plain": [
              "sexo\n",
              "Hombre      70218\n",
              "Mujer       14523\n",
              "Sin dato     1669\n",
              "dtype: int64"
            ],
            "text/html": [
              "<div>\n",
              "<style scoped>\n",
              "    .dataframe tbody tr th:only-of-type {\n",
              "        vertical-align: middle;\n",
              "    }\n",
              "\n",
              "    .dataframe tbody tr th {\n",
              "        vertical-align: top;\n",
              "    }\n",
              "\n",
              "    .dataframe thead th {\n",
              "        text-align: right;\n",
              "    }\n",
              "</style>\n",
              "<table border=\"1\" class=\"dataframe\">\n",
              "  <thead>\n",
              "    <tr style=\"text-align: right;\">\n",
              "      <th></th>\n",
              "      <th>0</th>\n",
              "    </tr>\n",
              "    <tr>\n",
              "      <th>sexo</th>\n",
              "      <th></th>\n",
              "    </tr>\n",
              "  </thead>\n",
              "  <tbody>\n",
              "    <tr>\n",
              "      <th>Hombre</th>\n",
              "      <td>70218</td>\n",
              "    </tr>\n",
              "    <tr>\n",
              "      <th>Mujer</th>\n",
              "      <td>14523</td>\n",
              "    </tr>\n",
              "    <tr>\n",
              "      <th>Sin dato</th>\n",
              "      <td>1669</td>\n",
              "    </tr>\n",
              "  </tbody>\n",
              "</table>\n",
              "</div><br><label><b>dtype:</b> int64</label>"
            ]
          },
          "metadata": {},
          "execution_count": 16
        }
      ]
    },
    {
      "cell_type": "code",
      "source": [
        "hurtosEstadoCivil = df.groupby(\"estado_civil\").size() #Ordena los registros por estado civil\n",
        "hurtosEstadoCivil"
      ],
      "metadata": {
        "colab": {
          "base_uri": "https://localhost:8080/",
          "height": 304
        },
        "id": "S31Fj_9A9tFd",
        "outputId": "aaec4216-88a2-4413-a2f0-27aa5e3f96dc"
      },
      "execution_count": null,
      "outputs": [
        {
          "output_type": "execute_result",
          "data": {
            "text/plain": [
              "estado_civil\n",
              "Casado(a)                 12243\n",
              "Divorciado(a)              1460\n",
              "Sin dato                  12772\n",
              "Soltero(a)                45247\n",
              "Unión marital de hecho    14473\n",
              "Viudo(a)                    215\n",
              "dtype: int64"
            ],
            "text/html": [
              "<div>\n",
              "<style scoped>\n",
              "    .dataframe tbody tr th:only-of-type {\n",
              "        vertical-align: middle;\n",
              "    }\n",
              "\n",
              "    .dataframe tbody tr th {\n",
              "        vertical-align: top;\n",
              "    }\n",
              "\n",
              "    .dataframe thead th {\n",
              "        text-align: right;\n",
              "    }\n",
              "</style>\n",
              "<table border=\"1\" class=\"dataframe\">\n",
              "  <thead>\n",
              "    <tr style=\"text-align: right;\">\n",
              "      <th></th>\n",
              "      <th>0</th>\n",
              "    </tr>\n",
              "    <tr>\n",
              "      <th>estado_civil</th>\n",
              "      <th></th>\n",
              "    </tr>\n",
              "  </thead>\n",
              "  <tbody>\n",
              "    <tr>\n",
              "      <th>Casado(a)</th>\n",
              "      <td>12243</td>\n",
              "    </tr>\n",
              "    <tr>\n",
              "      <th>Divorciado(a)</th>\n",
              "      <td>1460</td>\n",
              "    </tr>\n",
              "    <tr>\n",
              "      <th>Sin dato</th>\n",
              "      <td>12772</td>\n",
              "    </tr>\n",
              "    <tr>\n",
              "      <th>Soltero(a)</th>\n",
              "      <td>45247</td>\n",
              "    </tr>\n",
              "    <tr>\n",
              "      <th>Unión marital de hecho</th>\n",
              "      <td>14473</td>\n",
              "    </tr>\n",
              "    <tr>\n",
              "      <th>Viudo(a)</th>\n",
              "      <td>215</td>\n",
              "    </tr>\n",
              "  </tbody>\n",
              "</table>\n",
              "</div><br><label><b>dtype:</b> int64</label>"
            ]
          },
          "metadata": {},
          "execution_count": 13
        }
      ]
    },
    {
      "cell_type": "code",
      "source": [
        "hurtosBarriosSexo = df.groupby([\"sexo\",\"estado_civil\"]).size() #Ordena los registros por barrio y sexo\n",
        "hurtosBarriosSexo.sort_values(ascending=False)"
      ],
      "metadata": {
        "colab": {
          "base_uri": "https://localhost:8080/",
          "height": 649
        },
        "id": "O3J9c1aG-JIA",
        "outputId": "830bdfe7-440b-426f-edcb-b7f20853aa05"
      },
      "execution_count": null,
      "outputs": [
        {
          "output_type": "execute_result",
          "data": {
            "text/plain": [
              "sexo      estado_civil          \n",
              "Hombre    Soltero(a)                37162\n",
              "          Unión marital de hecho    12237\n",
              "          Casado(a)                 10322\n",
              "          Sin dato                   9340\n",
              "Mujer     Soltero(a)                 7981\n",
              "          Unión marital de hecho     2194\n",
              "          Sin dato                   1966\n",
              "          Casado(a)                  1869\n",
              "Sin dato  Sin dato                   1466\n",
              "Hombre    Divorciado(a)              1088\n",
              "Mujer     Divorciado(a)               367\n",
              "          Viudo(a)                    146\n",
              "Sin dato  Soltero(a)                  104\n",
              "Hombre    Viudo(a)                     69\n",
              "Sin dato  Casado(a)                    52\n",
              "          Unión marital de hecho       42\n",
              "          Divorciado(a)                 5\n",
              "dtype: int64"
            ],
            "text/html": [
              "<div>\n",
              "<style scoped>\n",
              "    .dataframe tbody tr th:only-of-type {\n",
              "        vertical-align: middle;\n",
              "    }\n",
              "\n",
              "    .dataframe tbody tr th {\n",
              "        vertical-align: top;\n",
              "    }\n",
              "\n",
              "    .dataframe thead th {\n",
              "        text-align: right;\n",
              "    }\n",
              "</style>\n",
              "<table border=\"1\" class=\"dataframe\">\n",
              "  <thead>\n",
              "    <tr style=\"text-align: right;\">\n",
              "      <th></th>\n",
              "      <th></th>\n",
              "      <th>0</th>\n",
              "    </tr>\n",
              "    <tr>\n",
              "      <th>sexo</th>\n",
              "      <th>estado_civil</th>\n",
              "      <th></th>\n",
              "    </tr>\n",
              "  </thead>\n",
              "  <tbody>\n",
              "    <tr>\n",
              "      <th rowspan=\"4\" valign=\"top\">Hombre</th>\n",
              "      <th>Soltero(a)</th>\n",
              "      <td>37162</td>\n",
              "    </tr>\n",
              "    <tr>\n",
              "      <th>Unión marital de hecho</th>\n",
              "      <td>12237</td>\n",
              "    </tr>\n",
              "    <tr>\n",
              "      <th>Casado(a)</th>\n",
              "      <td>10322</td>\n",
              "    </tr>\n",
              "    <tr>\n",
              "      <th>Sin dato</th>\n",
              "      <td>9340</td>\n",
              "    </tr>\n",
              "    <tr>\n",
              "      <th rowspan=\"4\" valign=\"top\">Mujer</th>\n",
              "      <th>Soltero(a)</th>\n",
              "      <td>7981</td>\n",
              "    </tr>\n",
              "    <tr>\n",
              "      <th>Unión marital de hecho</th>\n",
              "      <td>2194</td>\n",
              "    </tr>\n",
              "    <tr>\n",
              "      <th>Sin dato</th>\n",
              "      <td>1966</td>\n",
              "    </tr>\n",
              "    <tr>\n",
              "      <th>Casado(a)</th>\n",
              "      <td>1869</td>\n",
              "    </tr>\n",
              "    <tr>\n",
              "      <th>Sin dato</th>\n",
              "      <th>Sin dato</th>\n",
              "      <td>1466</td>\n",
              "    </tr>\n",
              "    <tr>\n",
              "      <th>Hombre</th>\n",
              "      <th>Divorciado(a)</th>\n",
              "      <td>1088</td>\n",
              "    </tr>\n",
              "    <tr>\n",
              "      <th rowspan=\"2\" valign=\"top\">Mujer</th>\n",
              "      <th>Divorciado(a)</th>\n",
              "      <td>367</td>\n",
              "    </tr>\n",
              "    <tr>\n",
              "      <th>Viudo(a)</th>\n",
              "      <td>146</td>\n",
              "    </tr>\n",
              "    <tr>\n",
              "      <th>Sin dato</th>\n",
              "      <th>Soltero(a)</th>\n",
              "      <td>104</td>\n",
              "    </tr>\n",
              "    <tr>\n",
              "      <th>Hombre</th>\n",
              "      <th>Viudo(a)</th>\n",
              "      <td>69</td>\n",
              "    </tr>\n",
              "    <tr>\n",
              "      <th rowspan=\"3\" valign=\"top\">Sin dato</th>\n",
              "      <th>Casado(a)</th>\n",
              "      <td>52</td>\n",
              "    </tr>\n",
              "    <tr>\n",
              "      <th>Unión marital de hecho</th>\n",
              "      <td>42</td>\n",
              "    </tr>\n",
              "    <tr>\n",
              "      <th>Divorciado(a)</th>\n",
              "      <td>5</td>\n",
              "    </tr>\n",
              "  </tbody>\n",
              "</table>\n",
              "</div><br><label><b>dtype:</b> int64</label>"
            ]
          },
          "metadata": {},
          "execution_count": 18
        }
      ]
    },
    {
      "cell_type": "code",
      "source": [
        "df.groupby(\"edad\").agg({\"edad\": \"mean\"})"
      ],
      "metadata": {
        "colab": {
          "base_uri": "https://localhost:8080/",
          "height": 455
        },
        "id": "ZB88NRL_EQ8s",
        "outputId": "f943c208-4627-4fb6-a04d-b306346fd1a6"
      },
      "execution_count": null,
      "outputs": [
        {
          "output_type": "execute_result",
          "data": {
            "text/plain": [
              "       edad\n",
              "edad       \n",
              "-1     -1.0\n",
              " 1      1.0\n",
              " 3      3.0\n",
              " 4      4.0\n",
              " 5      5.0\n",
              "...     ...\n",
              " 89    89.0\n",
              " 94    94.0\n",
              " 95    95.0\n",
              " 99    99.0\n",
              " 122  122.0\n",
              "\n",
              "[85 rows x 1 columns]"
            ],
            "text/html": [
              "\n",
              "  <div id=\"df-436751b4-8c1e-4c81-b6b1-91e60b48481e\" class=\"colab-df-container\">\n",
              "    <div>\n",
              "<style scoped>\n",
              "    .dataframe tbody tr th:only-of-type {\n",
              "        vertical-align: middle;\n",
              "    }\n",
              "\n",
              "    .dataframe tbody tr th {\n",
              "        vertical-align: top;\n",
              "    }\n",
              "\n",
              "    .dataframe thead th {\n",
              "        text-align: right;\n",
              "    }\n",
              "</style>\n",
              "<table border=\"1\" class=\"dataframe\">\n",
              "  <thead>\n",
              "    <tr style=\"text-align: right;\">\n",
              "      <th></th>\n",
              "      <th>edad</th>\n",
              "    </tr>\n",
              "    <tr>\n",
              "      <th>edad</th>\n",
              "      <th></th>\n",
              "    </tr>\n",
              "  </thead>\n",
              "  <tbody>\n",
              "    <tr>\n",
              "      <th>-1</th>\n",
              "      <td>-1.0</td>\n",
              "    </tr>\n",
              "    <tr>\n",
              "      <th>1</th>\n",
              "      <td>1.0</td>\n",
              "    </tr>\n",
              "    <tr>\n",
              "      <th>3</th>\n",
              "      <td>3.0</td>\n",
              "    </tr>\n",
              "    <tr>\n",
              "      <th>4</th>\n",
              "      <td>4.0</td>\n",
              "    </tr>\n",
              "    <tr>\n",
              "      <th>5</th>\n",
              "      <td>5.0</td>\n",
              "    </tr>\n",
              "    <tr>\n",
              "      <th>...</th>\n",
              "      <td>...</td>\n",
              "    </tr>\n",
              "    <tr>\n",
              "      <th>89</th>\n",
              "      <td>89.0</td>\n",
              "    </tr>\n",
              "    <tr>\n",
              "      <th>94</th>\n",
              "      <td>94.0</td>\n",
              "    </tr>\n",
              "    <tr>\n",
              "      <th>95</th>\n",
              "      <td>95.0</td>\n",
              "    </tr>\n",
              "    <tr>\n",
              "      <th>99</th>\n",
              "      <td>99.0</td>\n",
              "    </tr>\n",
              "    <tr>\n",
              "      <th>122</th>\n",
              "      <td>122.0</td>\n",
              "    </tr>\n",
              "  </tbody>\n",
              "</table>\n",
              "<p>85 rows × 1 columns</p>\n",
              "</div>\n",
              "    <div class=\"colab-df-buttons\">\n",
              "\n",
              "  <div class=\"colab-df-container\">\n",
              "    <button class=\"colab-df-convert\" onclick=\"convertToInteractive('df-436751b4-8c1e-4c81-b6b1-91e60b48481e')\"\n",
              "            title=\"Convert this dataframe to an interactive table.\"\n",
              "            style=\"display:none;\">\n",
              "\n",
              "  <svg xmlns=\"http://www.w3.org/2000/svg\" height=\"24px\" viewBox=\"0 -960 960 960\">\n",
              "    <path d=\"M120-120v-720h720v720H120Zm60-500h600v-160H180v160Zm220 220h160v-160H400v160Zm0 220h160v-160H400v160ZM180-400h160v-160H180v160Zm440 0h160v-160H620v160ZM180-180h160v-160H180v160Zm440 0h160v-160H620v160Z\"/>\n",
              "  </svg>\n",
              "    </button>\n",
              "\n",
              "  <style>\n",
              "    .colab-df-container {\n",
              "      display:flex;\n",
              "      gap: 12px;\n",
              "    }\n",
              "\n",
              "    .colab-df-convert {\n",
              "      background-color: #E8F0FE;\n",
              "      border: none;\n",
              "      border-radius: 50%;\n",
              "      cursor: pointer;\n",
              "      display: none;\n",
              "      fill: #1967D2;\n",
              "      height: 32px;\n",
              "      padding: 0 0 0 0;\n",
              "      width: 32px;\n",
              "    }\n",
              "\n",
              "    .colab-df-convert:hover {\n",
              "      background-color: #E2EBFA;\n",
              "      box-shadow: 0px 1px 2px rgba(60, 64, 67, 0.3), 0px 1px 3px 1px rgba(60, 64, 67, 0.15);\n",
              "      fill: #174EA6;\n",
              "    }\n",
              "\n",
              "    .colab-df-buttons div {\n",
              "      margin-bottom: 4px;\n",
              "    }\n",
              "\n",
              "    [theme=dark] .colab-df-convert {\n",
              "      background-color: #3B4455;\n",
              "      fill: #D2E3FC;\n",
              "    }\n",
              "\n",
              "    [theme=dark] .colab-df-convert:hover {\n",
              "      background-color: #434B5C;\n",
              "      box-shadow: 0px 1px 3px 1px rgba(0, 0, 0, 0.15);\n",
              "      filter: drop-shadow(0px 1px 2px rgba(0, 0, 0, 0.3));\n",
              "      fill: #FFFFFF;\n",
              "    }\n",
              "  </style>\n",
              "\n",
              "    <script>\n",
              "      const buttonEl =\n",
              "        document.querySelector('#df-436751b4-8c1e-4c81-b6b1-91e60b48481e button.colab-df-convert');\n",
              "      buttonEl.style.display =\n",
              "        google.colab.kernel.accessAllowed ? 'block' : 'none';\n",
              "\n",
              "      async function convertToInteractive(key) {\n",
              "        const element = document.querySelector('#df-436751b4-8c1e-4c81-b6b1-91e60b48481e');\n",
              "        const dataTable =\n",
              "          await google.colab.kernel.invokeFunction('convertToInteractive',\n",
              "                                                    [key], {});\n",
              "        if (!dataTable) return;\n",
              "\n",
              "        const docLinkHtml = 'Like what you see? Visit the ' +\n",
              "          '<a target=\"_blank\" href=https://colab.research.google.com/notebooks/data_table.ipynb>data table notebook</a>'\n",
              "          + ' to learn more about interactive tables.';\n",
              "        element.innerHTML = '';\n",
              "        dataTable['output_type'] = 'display_data';\n",
              "        await google.colab.output.renderOutput(dataTable, element);\n",
              "        const docLink = document.createElement('div');\n",
              "        docLink.innerHTML = docLinkHtml;\n",
              "        element.appendChild(docLink);\n",
              "      }\n",
              "    </script>\n",
              "  </div>\n",
              "\n",
              "\n",
              "<div id=\"df-886ba7a2-49bf-4cb4-ab72-95f6859c31cf\">\n",
              "  <button class=\"colab-df-quickchart\" onclick=\"quickchart('df-886ba7a2-49bf-4cb4-ab72-95f6859c31cf')\"\n",
              "            title=\"Suggest charts\"\n",
              "            style=\"display:none;\">\n",
              "\n",
              "<svg xmlns=\"http://www.w3.org/2000/svg\" height=\"24px\"viewBox=\"0 0 24 24\"\n",
              "     width=\"24px\">\n",
              "    <g>\n",
              "        <path d=\"M19 3H5c-1.1 0-2 .9-2 2v14c0 1.1.9 2 2 2h14c1.1 0 2-.9 2-2V5c0-1.1-.9-2-2-2zM9 17H7v-7h2v7zm4 0h-2V7h2v10zm4 0h-2v-4h2v4z\"/>\n",
              "    </g>\n",
              "</svg>\n",
              "  </button>\n",
              "\n",
              "<style>\n",
              "  .colab-df-quickchart {\n",
              "      --bg-color: #E8F0FE;\n",
              "      --fill-color: #1967D2;\n",
              "      --hover-bg-color: #E2EBFA;\n",
              "      --hover-fill-color: #174EA6;\n",
              "      --disabled-fill-color: #AAA;\n",
              "      --disabled-bg-color: #DDD;\n",
              "  }\n",
              "\n",
              "  [theme=dark] .colab-df-quickchart {\n",
              "      --bg-color: #3B4455;\n",
              "      --fill-color: #D2E3FC;\n",
              "      --hover-bg-color: #434B5C;\n",
              "      --hover-fill-color: #FFFFFF;\n",
              "      --disabled-bg-color: #3B4455;\n",
              "      --disabled-fill-color: #666;\n",
              "  }\n",
              "\n",
              "  .colab-df-quickchart {\n",
              "    background-color: var(--bg-color);\n",
              "    border: none;\n",
              "    border-radius: 50%;\n",
              "    cursor: pointer;\n",
              "    display: none;\n",
              "    fill: var(--fill-color);\n",
              "    height: 32px;\n",
              "    padding: 0;\n",
              "    width: 32px;\n",
              "  }\n",
              "\n",
              "  .colab-df-quickchart:hover {\n",
              "    background-color: var(--hover-bg-color);\n",
              "    box-shadow: 0 1px 2px rgba(60, 64, 67, 0.3), 0 1px 3px 1px rgba(60, 64, 67, 0.15);\n",
              "    fill: var(--button-hover-fill-color);\n",
              "  }\n",
              "\n",
              "  .colab-df-quickchart-complete:disabled,\n",
              "  .colab-df-quickchart-complete:disabled:hover {\n",
              "    background-color: var(--disabled-bg-color);\n",
              "    fill: var(--disabled-fill-color);\n",
              "    box-shadow: none;\n",
              "  }\n",
              "\n",
              "  .colab-df-spinner {\n",
              "    border: 2px solid var(--fill-color);\n",
              "    border-color: transparent;\n",
              "    border-bottom-color: var(--fill-color);\n",
              "    animation:\n",
              "      spin 1s steps(1) infinite;\n",
              "  }\n",
              "\n",
              "  @keyframes spin {\n",
              "    0% {\n",
              "      border-color: transparent;\n",
              "      border-bottom-color: var(--fill-color);\n",
              "      border-left-color: var(--fill-color);\n",
              "    }\n",
              "    20% {\n",
              "      border-color: transparent;\n",
              "      border-left-color: var(--fill-color);\n",
              "      border-top-color: var(--fill-color);\n",
              "    }\n",
              "    30% {\n",
              "      border-color: transparent;\n",
              "      border-left-color: var(--fill-color);\n",
              "      border-top-color: var(--fill-color);\n",
              "      border-right-color: var(--fill-color);\n",
              "    }\n",
              "    40% {\n",
              "      border-color: transparent;\n",
              "      border-right-color: var(--fill-color);\n",
              "      border-top-color: var(--fill-color);\n",
              "    }\n",
              "    60% {\n",
              "      border-color: transparent;\n",
              "      border-right-color: var(--fill-color);\n",
              "    }\n",
              "    80% {\n",
              "      border-color: transparent;\n",
              "      border-right-color: var(--fill-color);\n",
              "      border-bottom-color: var(--fill-color);\n",
              "    }\n",
              "    90% {\n",
              "      border-color: transparent;\n",
              "      border-bottom-color: var(--fill-color);\n",
              "    }\n",
              "  }\n",
              "</style>\n",
              "\n",
              "  <script>\n",
              "    async function quickchart(key) {\n",
              "      const quickchartButtonEl =\n",
              "        document.querySelector('#' + key + ' button');\n",
              "      quickchartButtonEl.disabled = true;  // To prevent multiple clicks.\n",
              "      quickchartButtonEl.classList.add('colab-df-spinner');\n",
              "      try {\n",
              "        const charts = await google.colab.kernel.invokeFunction(\n",
              "            'suggestCharts', [key], {});\n",
              "      } catch (error) {\n",
              "        console.error('Error during call to suggestCharts:', error);\n",
              "      }\n",
              "      quickchartButtonEl.classList.remove('colab-df-spinner');\n",
              "      quickchartButtonEl.classList.add('colab-df-quickchart-complete');\n",
              "    }\n",
              "    (() => {\n",
              "      let quickchartButtonEl =\n",
              "        document.querySelector('#df-886ba7a2-49bf-4cb4-ab72-95f6859c31cf button');\n",
              "      quickchartButtonEl.style.display =\n",
              "        google.colab.kernel.accessAllowed ? 'block' : 'none';\n",
              "    })();\n",
              "  </script>\n",
              "</div>\n",
              "\n",
              "    </div>\n",
              "  </div>\n"
            ],
            "application/vnd.google.colaboratory.intrinsic+json": {
              "type": "dataframe",
              "repr_error": "cannot insert edad, already exists"
            }
          },
          "metadata": {},
          "execution_count": 17
        }
      ]
    },
    {
      "cell_type": "code",
      "source": [
        "#Creacion de dataframe\n",
        "\n",
        "dfLlenado=pd.DataFrame(\n",
        "    [[\"Perro\",\"Gato\",\"Vaca\"],\n",
        "     [\"Oveja\",\"Res\"],\n",
        "     [\"Oveja\",\"\",\"res2\"]]\n",
        ")\n",
        "dfLlenado"
      ],
      "metadata": {
        "id": "NfUM9PBD2wqr"
      },
      "execution_count": null,
      "outputs": []
    },
    {
      "cell_type": "code",
      "source": [
        "dfLlenadoNumerico = pd.DataFrame(\n",
        "    [[20,\"Luis\",3],\n",
        "     [19,\"Eduardo\",\"\"],\n",
        "     [18,\"Juan\",2.5]],\n",
        "    columns=[\"Edad\",\"Nombre\",\"Promedio\"],\n",
        "    index = [\"Estudiante1\",\"Estudiante2\",\"Estudiante3\"]\n",
        ")\n",
        "dfLlenadoNumerico"
      ],
      "metadata": {
        "id": "g2hs6EdD37qp"
      },
      "execution_count": null,
      "outputs": []
    },
    {
      "cell_type": "code",
      "source": [
        "#Modo de filtrar en pandas\n",
        "dfLlenadoNumerico[dfLlenadoNumerico.Edad<19]"
      ],
      "metadata": {
        "id": "2xR-7eJd6VW4"
      },
      "execution_count": null,
      "outputs": []
    },
    {
      "cell_type": "code",
      "source": [
        "dfLlenadoNumerico[(dfLlenadoNumerico.Edad<=19) & (dfLlenadoNumerico.Edad>=19)]"
      ],
      "metadata": {
        "id": "owypy3FV811J"
      },
      "execution_count": null,
      "outputs": []
    },
    {
      "cell_type": "code",
      "source": [
        "dfLlenadoNumerico.loc[\"Estudiante1\"]"
      ],
      "metadata": {
        "id": "6d1CkPp5984m"
      },
      "execution_count": null,
      "outputs": []
    },
    {
      "cell_type": "code",
      "source": [
        "dfLlenadoNumerico = dfLlenadoNumerico.replace(\"\",None)\n",
        "dfLlenadoNumerico"
      ],
      "metadata": {
        "id": "19ofHgBCAENw"
      },
      "execution_count": null,
      "outputs": []
    },
    {
      "cell_type": "code",
      "source": [
        "dfLenadoNumericoSinNulos = dfLlenadoNumerico.fillna(0)\n",
        "dfLenadoNumericoSinNulos"
      ],
      "metadata": {
        "id": "KvgeQBddAuIN"
      },
      "execution_count": null,
      "outputs": []
    },
    {
      "cell_type": "code",
      "source": [
        "dfLenadoNumericoSinNulos.Promedio.median()"
      ],
      "metadata": {
        "id": "Vq-vYMZrJWhq"
      },
      "execution_count": null,
      "outputs": []
    },
    {
      "cell_type": "code",
      "source": [
        "# Se actualizan los datos nulos con la mediana\n",
        "dfLlenadoNumerico = dfLlenadoNumerico.fillna(dfLlenadoNumerico.Promedio.median())\n",
        "dfLlenadoNumerico"
      ],
      "metadata": {
        "id": "anulK6plLftx"
      },
      "execution_count": null,
      "outputs": []
    },
    {
      "cell_type": "markdown",
      "source": [
        "DataFrame Hurto a Përsonas\n"
      ],
      "metadata": {
        "id": "nI9cA5fZRfYh"
      }
    },
    {
      "cell_type": "code",
      "source": [
        "dfHurtoPersonas = pd.read_csv(\"/content/drive/MyDrive/Talento Tech - Analisis de Datos/fuenteDatos/hurto_a_personas.csv\")\n",
        "dfHurtoPersonas"
      ],
      "metadata": {
        "colab": {
          "base_uri": "https://localhost:8080/",
          "height": 826
        },
        "id": "6eIgJCeMRiEi",
        "outputId": "6fed87ca-32be-405a-8b3f-d91f92e840d8",
        "collapsed": true
      },
      "execution_count": null,
      "outputs": [
        {
          "output_type": "stream",
          "name": "stderr",
          "text": [
            "<ipython-input-20-46e7f7094aaa>:1: DtypeWarning: Columns (25) have mixed types. Specify dtype option on import or set low_memory=False.\n",
            "  dfHurtoPersonas = pd.read_csv(\"/content/drive/MyDrive/Talento Tech - Analisis de Datos/fuenteDatos/hurto_a_personas.csv\")\n"
          ]
        },
        {
          "output_type": "execute_result",
          "data": {
            "text/plain": [
              "                          fecha_hecho  cantidad   latitud   longitud    sexo  \\\n",
              "0       2017-01-01T01:00:00.000-05:00       1.0  6.299703 -75.582016   Mujer   \n",
              "1       2017-01-01T15:00:00.000-05:00       1.0  6.250917 -75.566160   Mujer   \n",
              "2       2017-01-01T14:00:00.000-05:00       1.0  6.274836 -75.554909  Hombre   \n",
              "3       2017-01-01T16:00:00.000-05:00       1.0  6.276236 -75.553533  Hombre   \n",
              "4       2017-01-01T16:00:00.000-05:00       1.0  6.250339 -75.586914  Hombre   \n",
              "...                               ...       ...       ...        ...     ...   \n",
              "326484  2023-11-30T21:30:00.000-05:00       1.0       NaN        NaN  Hombre   \n",
              "326485  2023-11-30T23:00:00.000-05:00       1.0       NaN        NaN  Hombre   \n",
              "326486  2023-11-30T23:00:00.000-05:00       1.0       NaN        NaN  Hombre   \n",
              "326487  2023-11-30T23:20:00.000-05:00       1.0       NaN        NaN  Hombre   \n",
              "326488  2023-11-30T23:30:00.000-05:00       1.0       NaN        NaN   Mujer   \n",
              "\n",
              "        edad            estado_civil grupo_actor actividad_delictiva  \\\n",
              "0         33  Unión marital de hecho    Sin dato            Sin dato   \n",
              "1         26              Soltero(a)    Sin dato            Sin dato   \n",
              "2         30              Soltero(a)    Sin dato            Sin dato   \n",
              "3         37               Casado(a)    Sin dato            Sin dato   \n",
              "4         87               Casado(a)    Sin dato            Sin dato   \n",
              "...      ...                     ...         ...                 ...   \n",
              "326484    29                Sin dato    Sin dato            Sin dato   \n",
              "326485    29                Sin dato    Sin dato            Sin dato   \n",
              "326486    40                Sin dato    Sin dato            Sin dato   \n",
              "326487    29                Sin dato    Sin dato            Sin dato   \n",
              "326488    26                Sin dato    Sin dato            Sin dato   \n",
              "\n",
              "       parentesco  ...          lugar   sede_receptora       bien  \\\n",
              "0        Sin dato  ...    Vía pública  Doce de Octubre    Celular   \n",
              "1        Sin dato  ...    Vía pública       Candelaria    Celular   \n",
              "2        Sin dato  ...    Vía pública         Aranjuez    Celular   \n",
              "3        Sin dato  ...    Vía pública         Aranjuez    Celular   \n",
              "4        Sin dato  ...    Vía pública         Laureles  Billetera   \n",
              "...           ...  ...            ...              ...        ...   \n",
              "326484   Sin dato  ...    Vía pública       Candelaria   Sin dato   \n",
              "326485   Sin dato  ...    Vía pública          Poblado   Sin dato   \n",
              "326486   Sin dato  ...  Bar o cantina       Candelaria   Sin dato   \n",
              "326487   Sin dato  ...    Vía pública       Candelaria   Sin dato   \n",
              "326488   Sin dato  ...      Turístico         Manrique   Sin dato   \n",
              "\n",
              "                        categoria_bien grupo_bien modelo     color   permiso  \\\n",
              "0                           Tecnología  Mercancía     -1  Sin dato  Sin dato   \n",
              "1                           Tecnología  Mercancía     -1  Sin dato  Sin dato   \n",
              "2                           Tecnología  Mercancía     -1     Negro  Sin dato   \n",
              "3                           Tecnología  Mercancía     -1     Negro  Sin dato   \n",
              "4       Prendas de vestir y accesorios  Mercancía     -1  Sin dato  Sin dato   \n",
              "...                                ...        ...    ...       ...       ...   \n",
              "326484                        Sin dato   Sin dato     -1  Sin dato  Sin dato   \n",
              "326485                        Sin dato   Sin dato     -1  Sin dato  Sin dato   \n",
              "326486                        Sin dato   Sin dato     -1  Sin dato  Sin dato   \n",
              "326487                        Sin dato   Sin dato     -1  Sin dato  Sin dato   \n",
              "326488                        Sin dato   Sin dato     -1  Sin dato  Sin dato   \n",
              "\n",
              "       unidad_medida                fecha_ingestion  \n",
              "0           Sin dato  2024-10-06T04:07:03.000-05:00  \n",
              "1           Sin dato  2024-10-06T04:07:03.000-05:00  \n",
              "2           Sin dato  2024-10-06T04:07:03.000-05:00  \n",
              "3           Sin dato  2024-10-06T04:07:03.000-05:00  \n",
              "4           Sin dato  2024-10-06T04:07:03.000-05:00  \n",
              "...              ...                            ...  \n",
              "326484      Sin dato  2024-10-06T04:07:03.000-05:00  \n",
              "326485      Sin dato  2024-10-06T04:07:03.000-05:00  \n",
              "326486      Sin dato  2024-10-06T04:07:03.000-05:00  \n",
              "326487      Sin dato  2024-10-06T04:07:03.000-05:00  \n",
              "326488      Sin dato  2024-10-06T04:07:03.000-05:00  \n",
              "\n",
              "[326489 rows x 36 columns]"
            ],
            "text/html": [
              "\n",
              "  <div id=\"df-cfbde98b-4336-4d16-a266-765e5a5ea511\" class=\"colab-df-container\">\n",
              "    <div>\n",
              "<style scoped>\n",
              "    .dataframe tbody tr th:only-of-type {\n",
              "        vertical-align: middle;\n",
              "    }\n",
              "\n",
              "    .dataframe tbody tr th {\n",
              "        vertical-align: top;\n",
              "    }\n",
              "\n",
              "    .dataframe thead th {\n",
              "        text-align: right;\n",
              "    }\n",
              "</style>\n",
              "<table border=\"1\" class=\"dataframe\">\n",
              "  <thead>\n",
              "    <tr style=\"text-align: right;\">\n",
              "      <th></th>\n",
              "      <th>fecha_hecho</th>\n",
              "      <th>cantidad</th>\n",
              "      <th>latitud</th>\n",
              "      <th>longitud</th>\n",
              "      <th>sexo</th>\n",
              "      <th>edad</th>\n",
              "      <th>estado_civil</th>\n",
              "      <th>grupo_actor</th>\n",
              "      <th>actividad_delictiva</th>\n",
              "      <th>parentesco</th>\n",
              "      <th>...</th>\n",
              "      <th>lugar</th>\n",
              "      <th>sede_receptora</th>\n",
              "      <th>bien</th>\n",
              "      <th>categoria_bien</th>\n",
              "      <th>grupo_bien</th>\n",
              "      <th>modelo</th>\n",
              "      <th>color</th>\n",
              "      <th>permiso</th>\n",
              "      <th>unidad_medida</th>\n",
              "      <th>fecha_ingestion</th>\n",
              "    </tr>\n",
              "  </thead>\n",
              "  <tbody>\n",
              "    <tr>\n",
              "      <th>0</th>\n",
              "      <td>2017-01-01T01:00:00.000-05:00</td>\n",
              "      <td>1.0</td>\n",
              "      <td>6.299703</td>\n",
              "      <td>-75.582016</td>\n",
              "      <td>Mujer</td>\n",
              "      <td>33</td>\n",
              "      <td>Unión marital de hecho</td>\n",
              "      <td>Sin dato</td>\n",
              "      <td>Sin dato</td>\n",
              "      <td>Sin dato</td>\n",
              "      <td>...</td>\n",
              "      <td>Vía pública</td>\n",
              "      <td>Doce de Octubre</td>\n",
              "      <td>Celular</td>\n",
              "      <td>Tecnología</td>\n",
              "      <td>Mercancía</td>\n",
              "      <td>-1</td>\n",
              "      <td>Sin dato</td>\n",
              "      <td>Sin dato</td>\n",
              "      <td>Sin dato</td>\n",
              "      <td>2024-10-06T04:07:03.000-05:00</td>\n",
              "    </tr>\n",
              "    <tr>\n",
              "      <th>1</th>\n",
              "      <td>2017-01-01T15:00:00.000-05:00</td>\n",
              "      <td>1.0</td>\n",
              "      <td>6.250917</td>\n",
              "      <td>-75.566160</td>\n",
              "      <td>Mujer</td>\n",
              "      <td>26</td>\n",
              "      <td>Soltero(a)</td>\n",
              "      <td>Sin dato</td>\n",
              "      <td>Sin dato</td>\n",
              "      <td>Sin dato</td>\n",
              "      <td>...</td>\n",
              "      <td>Vía pública</td>\n",
              "      <td>Candelaria</td>\n",
              "      <td>Celular</td>\n",
              "      <td>Tecnología</td>\n",
              "      <td>Mercancía</td>\n",
              "      <td>-1</td>\n",
              "      <td>Sin dato</td>\n",
              "      <td>Sin dato</td>\n",
              "      <td>Sin dato</td>\n",
              "      <td>2024-10-06T04:07:03.000-05:00</td>\n",
              "    </tr>\n",
              "    <tr>\n",
              "      <th>2</th>\n",
              "      <td>2017-01-01T14:00:00.000-05:00</td>\n",
              "      <td>1.0</td>\n",
              "      <td>6.274836</td>\n",
              "      <td>-75.554909</td>\n",
              "      <td>Hombre</td>\n",
              "      <td>30</td>\n",
              "      <td>Soltero(a)</td>\n",
              "      <td>Sin dato</td>\n",
              "      <td>Sin dato</td>\n",
              "      <td>Sin dato</td>\n",
              "      <td>...</td>\n",
              "      <td>Vía pública</td>\n",
              "      <td>Aranjuez</td>\n",
              "      <td>Celular</td>\n",
              "      <td>Tecnología</td>\n",
              "      <td>Mercancía</td>\n",
              "      <td>-1</td>\n",
              "      <td>Negro</td>\n",
              "      <td>Sin dato</td>\n",
              "      <td>Sin dato</td>\n",
              "      <td>2024-10-06T04:07:03.000-05:00</td>\n",
              "    </tr>\n",
              "    <tr>\n",
              "      <th>3</th>\n",
              "      <td>2017-01-01T16:00:00.000-05:00</td>\n",
              "      <td>1.0</td>\n",
              "      <td>6.276236</td>\n",
              "      <td>-75.553533</td>\n",
              "      <td>Hombre</td>\n",
              "      <td>37</td>\n",
              "      <td>Casado(a)</td>\n",
              "      <td>Sin dato</td>\n",
              "      <td>Sin dato</td>\n",
              "      <td>Sin dato</td>\n",
              "      <td>...</td>\n",
              "      <td>Vía pública</td>\n",
              "      <td>Aranjuez</td>\n",
              "      <td>Celular</td>\n",
              "      <td>Tecnología</td>\n",
              "      <td>Mercancía</td>\n",
              "      <td>-1</td>\n",
              "      <td>Negro</td>\n",
              "      <td>Sin dato</td>\n",
              "      <td>Sin dato</td>\n",
              "      <td>2024-10-06T04:07:03.000-05:00</td>\n",
              "    </tr>\n",
              "    <tr>\n",
              "      <th>4</th>\n",
              "      <td>2017-01-01T16:00:00.000-05:00</td>\n",
              "      <td>1.0</td>\n",
              "      <td>6.250339</td>\n",
              "      <td>-75.586914</td>\n",
              "      <td>Hombre</td>\n",
              "      <td>87</td>\n",
              "      <td>Casado(a)</td>\n",
              "      <td>Sin dato</td>\n",
              "      <td>Sin dato</td>\n",
              "      <td>Sin dato</td>\n",
              "      <td>...</td>\n",
              "      <td>Vía pública</td>\n",
              "      <td>Laureles</td>\n",
              "      <td>Billetera</td>\n",
              "      <td>Prendas de vestir y accesorios</td>\n",
              "      <td>Mercancía</td>\n",
              "      <td>-1</td>\n",
              "      <td>Sin dato</td>\n",
              "      <td>Sin dato</td>\n",
              "      <td>Sin dato</td>\n",
              "      <td>2024-10-06T04:07:03.000-05:00</td>\n",
              "    </tr>\n",
              "    <tr>\n",
              "      <th>...</th>\n",
              "      <td>...</td>\n",
              "      <td>...</td>\n",
              "      <td>...</td>\n",
              "      <td>...</td>\n",
              "      <td>...</td>\n",
              "      <td>...</td>\n",
              "      <td>...</td>\n",
              "      <td>...</td>\n",
              "      <td>...</td>\n",
              "      <td>...</td>\n",
              "      <td>...</td>\n",
              "      <td>...</td>\n",
              "      <td>...</td>\n",
              "      <td>...</td>\n",
              "      <td>...</td>\n",
              "      <td>...</td>\n",
              "      <td>...</td>\n",
              "      <td>...</td>\n",
              "      <td>...</td>\n",
              "      <td>...</td>\n",
              "      <td>...</td>\n",
              "    </tr>\n",
              "    <tr>\n",
              "      <th>326484</th>\n",
              "      <td>2023-11-30T21:30:00.000-05:00</td>\n",
              "      <td>1.0</td>\n",
              "      <td>NaN</td>\n",
              "      <td>NaN</td>\n",
              "      <td>Hombre</td>\n",
              "      <td>29</td>\n",
              "      <td>Sin dato</td>\n",
              "      <td>Sin dato</td>\n",
              "      <td>Sin dato</td>\n",
              "      <td>Sin dato</td>\n",
              "      <td>...</td>\n",
              "      <td>Vía pública</td>\n",
              "      <td>Candelaria</td>\n",
              "      <td>Sin dato</td>\n",
              "      <td>Sin dato</td>\n",
              "      <td>Sin dato</td>\n",
              "      <td>-1</td>\n",
              "      <td>Sin dato</td>\n",
              "      <td>Sin dato</td>\n",
              "      <td>Sin dato</td>\n",
              "      <td>2024-10-06T04:07:03.000-05:00</td>\n",
              "    </tr>\n",
              "    <tr>\n",
              "      <th>326485</th>\n",
              "      <td>2023-11-30T23:00:00.000-05:00</td>\n",
              "      <td>1.0</td>\n",
              "      <td>NaN</td>\n",
              "      <td>NaN</td>\n",
              "      <td>Hombre</td>\n",
              "      <td>29</td>\n",
              "      <td>Sin dato</td>\n",
              "      <td>Sin dato</td>\n",
              "      <td>Sin dato</td>\n",
              "      <td>Sin dato</td>\n",
              "      <td>...</td>\n",
              "      <td>Vía pública</td>\n",
              "      <td>Poblado</td>\n",
              "      <td>Sin dato</td>\n",
              "      <td>Sin dato</td>\n",
              "      <td>Sin dato</td>\n",
              "      <td>-1</td>\n",
              "      <td>Sin dato</td>\n",
              "      <td>Sin dato</td>\n",
              "      <td>Sin dato</td>\n",
              "      <td>2024-10-06T04:07:03.000-05:00</td>\n",
              "    </tr>\n",
              "    <tr>\n",
              "      <th>326486</th>\n",
              "      <td>2023-11-30T23:00:00.000-05:00</td>\n",
              "      <td>1.0</td>\n",
              "      <td>NaN</td>\n",
              "      <td>NaN</td>\n",
              "      <td>Hombre</td>\n",
              "      <td>40</td>\n",
              "      <td>Sin dato</td>\n",
              "      <td>Sin dato</td>\n",
              "      <td>Sin dato</td>\n",
              "      <td>Sin dato</td>\n",
              "      <td>...</td>\n",
              "      <td>Bar o cantina</td>\n",
              "      <td>Candelaria</td>\n",
              "      <td>Sin dato</td>\n",
              "      <td>Sin dato</td>\n",
              "      <td>Sin dato</td>\n",
              "      <td>-1</td>\n",
              "      <td>Sin dato</td>\n",
              "      <td>Sin dato</td>\n",
              "      <td>Sin dato</td>\n",
              "      <td>2024-10-06T04:07:03.000-05:00</td>\n",
              "    </tr>\n",
              "    <tr>\n",
              "      <th>326487</th>\n",
              "      <td>2023-11-30T23:20:00.000-05:00</td>\n",
              "      <td>1.0</td>\n",
              "      <td>NaN</td>\n",
              "      <td>NaN</td>\n",
              "      <td>Hombre</td>\n",
              "      <td>29</td>\n",
              "      <td>Sin dato</td>\n",
              "      <td>Sin dato</td>\n",
              "      <td>Sin dato</td>\n",
              "      <td>Sin dato</td>\n",
              "      <td>...</td>\n",
              "      <td>Vía pública</td>\n",
              "      <td>Candelaria</td>\n",
              "      <td>Sin dato</td>\n",
              "      <td>Sin dato</td>\n",
              "      <td>Sin dato</td>\n",
              "      <td>-1</td>\n",
              "      <td>Sin dato</td>\n",
              "      <td>Sin dato</td>\n",
              "      <td>Sin dato</td>\n",
              "      <td>2024-10-06T04:07:03.000-05:00</td>\n",
              "    </tr>\n",
              "    <tr>\n",
              "      <th>326488</th>\n",
              "      <td>2023-11-30T23:30:00.000-05:00</td>\n",
              "      <td>1.0</td>\n",
              "      <td>NaN</td>\n",
              "      <td>NaN</td>\n",
              "      <td>Mujer</td>\n",
              "      <td>26</td>\n",
              "      <td>Sin dato</td>\n",
              "      <td>Sin dato</td>\n",
              "      <td>Sin dato</td>\n",
              "      <td>Sin dato</td>\n",
              "      <td>...</td>\n",
              "      <td>Turístico</td>\n",
              "      <td>Manrique</td>\n",
              "      <td>Sin dato</td>\n",
              "      <td>Sin dato</td>\n",
              "      <td>Sin dato</td>\n",
              "      <td>-1</td>\n",
              "      <td>Sin dato</td>\n",
              "      <td>Sin dato</td>\n",
              "      <td>Sin dato</td>\n",
              "      <td>2024-10-06T04:07:03.000-05:00</td>\n",
              "    </tr>\n",
              "  </tbody>\n",
              "</table>\n",
              "<p>326489 rows × 36 columns</p>\n",
              "</div>\n",
              "    <div class=\"colab-df-buttons\">\n",
              "\n",
              "  <div class=\"colab-df-container\">\n",
              "    <button class=\"colab-df-convert\" onclick=\"convertToInteractive('df-cfbde98b-4336-4d16-a266-765e5a5ea511')\"\n",
              "            title=\"Convert this dataframe to an interactive table.\"\n",
              "            style=\"display:none;\">\n",
              "\n",
              "  <svg xmlns=\"http://www.w3.org/2000/svg\" height=\"24px\" viewBox=\"0 -960 960 960\">\n",
              "    <path d=\"M120-120v-720h720v720H120Zm60-500h600v-160H180v160Zm220 220h160v-160H400v160Zm0 220h160v-160H400v160ZM180-400h160v-160H180v160Zm440 0h160v-160H620v160ZM180-180h160v-160H180v160Zm440 0h160v-160H620v160Z\"/>\n",
              "  </svg>\n",
              "    </button>\n",
              "\n",
              "  <style>\n",
              "    .colab-df-container {\n",
              "      display:flex;\n",
              "      gap: 12px;\n",
              "    }\n",
              "\n",
              "    .colab-df-convert {\n",
              "      background-color: #E8F0FE;\n",
              "      border: none;\n",
              "      border-radius: 50%;\n",
              "      cursor: pointer;\n",
              "      display: none;\n",
              "      fill: #1967D2;\n",
              "      height: 32px;\n",
              "      padding: 0 0 0 0;\n",
              "      width: 32px;\n",
              "    }\n",
              "\n",
              "    .colab-df-convert:hover {\n",
              "      background-color: #E2EBFA;\n",
              "      box-shadow: 0px 1px 2px rgba(60, 64, 67, 0.3), 0px 1px 3px 1px rgba(60, 64, 67, 0.15);\n",
              "      fill: #174EA6;\n",
              "    }\n",
              "\n",
              "    .colab-df-buttons div {\n",
              "      margin-bottom: 4px;\n",
              "    }\n",
              "\n",
              "    [theme=dark] .colab-df-convert {\n",
              "      background-color: #3B4455;\n",
              "      fill: #D2E3FC;\n",
              "    }\n",
              "\n",
              "    [theme=dark] .colab-df-convert:hover {\n",
              "      background-color: #434B5C;\n",
              "      box-shadow: 0px 1px 3px 1px rgba(0, 0, 0, 0.15);\n",
              "      filter: drop-shadow(0px 1px 2px rgba(0, 0, 0, 0.3));\n",
              "      fill: #FFFFFF;\n",
              "    }\n",
              "  </style>\n",
              "\n",
              "    <script>\n",
              "      const buttonEl =\n",
              "        document.querySelector('#df-cfbde98b-4336-4d16-a266-765e5a5ea511 button.colab-df-convert');\n",
              "      buttonEl.style.display =\n",
              "        google.colab.kernel.accessAllowed ? 'block' : 'none';\n",
              "\n",
              "      async function convertToInteractive(key) {\n",
              "        const element = document.querySelector('#df-cfbde98b-4336-4d16-a266-765e5a5ea511');\n",
              "        const dataTable =\n",
              "          await google.colab.kernel.invokeFunction('convertToInteractive',\n",
              "                                                    [key], {});\n",
              "        if (!dataTable) return;\n",
              "\n",
              "        const docLinkHtml = 'Like what you see? Visit the ' +\n",
              "          '<a target=\"_blank\" href=https://colab.research.google.com/notebooks/data_table.ipynb>data table notebook</a>'\n",
              "          + ' to learn more about interactive tables.';\n",
              "        element.innerHTML = '';\n",
              "        dataTable['output_type'] = 'display_data';\n",
              "        await google.colab.output.renderOutput(dataTable, element);\n",
              "        const docLink = document.createElement('div');\n",
              "        docLink.innerHTML = docLinkHtml;\n",
              "        element.appendChild(docLink);\n",
              "      }\n",
              "    </script>\n",
              "  </div>\n",
              "\n",
              "\n",
              "<div id=\"df-d729daf6-d091-4caa-87da-a5ae0066e522\">\n",
              "  <button class=\"colab-df-quickchart\" onclick=\"quickchart('df-d729daf6-d091-4caa-87da-a5ae0066e522')\"\n",
              "            title=\"Suggest charts\"\n",
              "            style=\"display:none;\">\n",
              "\n",
              "<svg xmlns=\"http://www.w3.org/2000/svg\" height=\"24px\"viewBox=\"0 0 24 24\"\n",
              "     width=\"24px\">\n",
              "    <g>\n",
              "        <path d=\"M19 3H5c-1.1 0-2 .9-2 2v14c0 1.1.9 2 2 2h14c1.1 0 2-.9 2-2V5c0-1.1-.9-2-2-2zM9 17H7v-7h2v7zm4 0h-2V7h2v10zm4 0h-2v-4h2v4z\"/>\n",
              "    </g>\n",
              "</svg>\n",
              "  </button>\n",
              "\n",
              "<style>\n",
              "  .colab-df-quickchart {\n",
              "      --bg-color: #E8F0FE;\n",
              "      --fill-color: #1967D2;\n",
              "      --hover-bg-color: #E2EBFA;\n",
              "      --hover-fill-color: #174EA6;\n",
              "      --disabled-fill-color: #AAA;\n",
              "      --disabled-bg-color: #DDD;\n",
              "  }\n",
              "\n",
              "  [theme=dark] .colab-df-quickchart {\n",
              "      --bg-color: #3B4455;\n",
              "      --fill-color: #D2E3FC;\n",
              "      --hover-bg-color: #434B5C;\n",
              "      --hover-fill-color: #FFFFFF;\n",
              "      --disabled-bg-color: #3B4455;\n",
              "      --disabled-fill-color: #666;\n",
              "  }\n",
              "\n",
              "  .colab-df-quickchart {\n",
              "    background-color: var(--bg-color);\n",
              "    border: none;\n",
              "    border-radius: 50%;\n",
              "    cursor: pointer;\n",
              "    display: none;\n",
              "    fill: var(--fill-color);\n",
              "    height: 32px;\n",
              "    padding: 0;\n",
              "    width: 32px;\n",
              "  }\n",
              "\n",
              "  .colab-df-quickchart:hover {\n",
              "    background-color: var(--hover-bg-color);\n",
              "    box-shadow: 0 1px 2px rgba(60, 64, 67, 0.3), 0 1px 3px 1px rgba(60, 64, 67, 0.15);\n",
              "    fill: var(--button-hover-fill-color);\n",
              "  }\n",
              "\n",
              "  .colab-df-quickchart-complete:disabled,\n",
              "  .colab-df-quickchart-complete:disabled:hover {\n",
              "    background-color: var(--disabled-bg-color);\n",
              "    fill: var(--disabled-fill-color);\n",
              "    box-shadow: none;\n",
              "  }\n",
              "\n",
              "  .colab-df-spinner {\n",
              "    border: 2px solid var(--fill-color);\n",
              "    border-color: transparent;\n",
              "    border-bottom-color: var(--fill-color);\n",
              "    animation:\n",
              "      spin 1s steps(1) infinite;\n",
              "  }\n",
              "\n",
              "  @keyframes spin {\n",
              "    0% {\n",
              "      border-color: transparent;\n",
              "      border-bottom-color: var(--fill-color);\n",
              "      border-left-color: var(--fill-color);\n",
              "    }\n",
              "    20% {\n",
              "      border-color: transparent;\n",
              "      border-left-color: var(--fill-color);\n",
              "      border-top-color: var(--fill-color);\n",
              "    }\n",
              "    30% {\n",
              "      border-color: transparent;\n",
              "      border-left-color: var(--fill-color);\n",
              "      border-top-color: var(--fill-color);\n",
              "      border-right-color: var(--fill-color);\n",
              "    }\n",
              "    40% {\n",
              "      border-color: transparent;\n",
              "      border-right-color: var(--fill-color);\n",
              "      border-top-color: var(--fill-color);\n",
              "    }\n",
              "    60% {\n",
              "      border-color: transparent;\n",
              "      border-right-color: var(--fill-color);\n",
              "    }\n",
              "    80% {\n",
              "      border-color: transparent;\n",
              "      border-right-color: var(--fill-color);\n",
              "      border-bottom-color: var(--fill-color);\n",
              "    }\n",
              "    90% {\n",
              "      border-color: transparent;\n",
              "      border-bottom-color: var(--fill-color);\n",
              "    }\n",
              "  }\n",
              "</style>\n",
              "\n",
              "  <script>\n",
              "    async function quickchart(key) {\n",
              "      const quickchartButtonEl =\n",
              "        document.querySelector('#' + key + ' button');\n",
              "      quickchartButtonEl.disabled = true;  // To prevent multiple clicks.\n",
              "      quickchartButtonEl.classList.add('colab-df-spinner');\n",
              "      try {\n",
              "        const charts = await google.colab.kernel.invokeFunction(\n",
              "            'suggestCharts', [key], {});\n",
              "      } catch (error) {\n",
              "        console.error('Error during call to suggestCharts:', error);\n",
              "      }\n",
              "      quickchartButtonEl.classList.remove('colab-df-spinner');\n",
              "      quickchartButtonEl.classList.add('colab-df-quickchart-complete');\n",
              "    }\n",
              "    (() => {\n",
              "      let quickchartButtonEl =\n",
              "        document.querySelector('#df-d729daf6-d091-4caa-87da-a5ae0066e522 button');\n",
              "      quickchartButtonEl.style.display =\n",
              "        google.colab.kernel.accessAllowed ? 'block' : 'none';\n",
              "    })();\n",
              "  </script>\n",
              "</div>\n",
              "\n",
              "  <div id=\"id_8fa8907c-c77d-4f01-b194-6e91b2a636f3\">\n",
              "    <style>\n",
              "      .colab-df-generate {\n",
              "        background-color: #E8F0FE;\n",
              "        border: none;\n",
              "        border-radius: 50%;\n",
              "        cursor: pointer;\n",
              "        display: none;\n",
              "        fill: #1967D2;\n",
              "        height: 32px;\n",
              "        padding: 0 0 0 0;\n",
              "        width: 32px;\n",
              "      }\n",
              "\n",
              "      .colab-df-generate:hover {\n",
              "        background-color: #E2EBFA;\n",
              "        box-shadow: 0px 1px 2px rgba(60, 64, 67, 0.3), 0px 1px 3px 1px rgba(60, 64, 67, 0.15);\n",
              "        fill: #174EA6;\n",
              "      }\n",
              "\n",
              "      [theme=dark] .colab-df-generate {\n",
              "        background-color: #3B4455;\n",
              "        fill: #D2E3FC;\n",
              "      }\n",
              "\n",
              "      [theme=dark] .colab-df-generate:hover {\n",
              "        background-color: #434B5C;\n",
              "        box-shadow: 0px 1px 3px 1px rgba(0, 0, 0, 0.15);\n",
              "        filter: drop-shadow(0px 1px 2px rgba(0, 0, 0, 0.3));\n",
              "        fill: #FFFFFF;\n",
              "      }\n",
              "    </style>\n",
              "    <button class=\"colab-df-generate\" onclick=\"generateWithVariable('dfHurtoPersonas')\"\n",
              "            title=\"Generate code using this dataframe.\"\n",
              "            style=\"display:none;\">\n",
              "\n",
              "  <svg xmlns=\"http://www.w3.org/2000/svg\" height=\"24px\"viewBox=\"0 0 24 24\"\n",
              "       width=\"24px\">\n",
              "    <path d=\"M7,19H8.4L18.45,9,17,7.55,7,17.6ZM5,21V16.75L18.45,3.32a2,2,0,0,1,2.83,0l1.4,1.43a1.91,1.91,0,0,1,.58,1.4,1.91,1.91,0,0,1-.58,1.4L9.25,21ZM18.45,9,17,7.55Zm-12,3A5.31,5.31,0,0,0,4.9,8.1,5.31,5.31,0,0,0,1,6.5,5.31,5.31,0,0,0,4.9,4.9,5.31,5.31,0,0,0,6.5,1,5.31,5.31,0,0,0,8.1,4.9,5.31,5.31,0,0,0,12,6.5,5.46,5.46,0,0,0,6.5,12Z\"/>\n",
              "  </svg>\n",
              "    </button>\n",
              "    <script>\n",
              "      (() => {\n",
              "      const buttonEl =\n",
              "        document.querySelector('#id_8fa8907c-c77d-4f01-b194-6e91b2a636f3 button.colab-df-generate');\n",
              "      buttonEl.style.display =\n",
              "        google.colab.kernel.accessAllowed ? 'block' : 'none';\n",
              "\n",
              "      buttonEl.onclick = () => {\n",
              "        google.colab.notebook.generateWithVariable('dfHurtoPersonas');\n",
              "      }\n",
              "      })();\n",
              "    </script>\n",
              "  </div>\n",
              "\n",
              "    </div>\n",
              "  </div>\n"
            ],
            "application/vnd.google.colaboratory.intrinsic+json": {
              "type": "dataframe",
              "variable_name": "dfHurtoPersonas"
            }
          },
          "metadata": {},
          "execution_count": 20
        }
      ]
    },
    {
      "cell_type": "code",
      "source": [
        "dfHurtoPersonas.info()"
      ],
      "metadata": {
        "id": "Pw1buCGOTDqx"
      },
      "execution_count": null,
      "outputs": []
    },
    {
      "cell_type": "code",
      "source": [
        "pd.unique(dfHurtoPersonas.bien)"
      ],
      "metadata": {
        "id": "1TGQLM5VTYq2"
      },
      "execution_count": null,
      "outputs": []
    },
    {
      "cell_type": "code",
      "source": [
        "dfHurtoPersonas.isnull().sum()"
      ],
      "metadata": {
        "id": "-Fahsso4Twuh"
      },
      "execution_count": null,
      "outputs": []
    },
    {
      "cell_type": "code",
      "source": [
        "pd.unique(dfHurtoPersonas.caracterizacion)"
      ],
      "metadata": {
        "id": "Oc_djgknWRGN"
      },
      "execution_count": null,
      "outputs": []
    },
    {
      "cell_type": "code",
      "source": [
        "from skimpy import skim\n",
        "skim(dfHurtoPersonas)"
      ],
      "metadata": {
        "id": "SpQQLsxsWZ4M"
      },
      "execution_count": null,
      "outputs": []
    },
    {
      "cell_type": "code",
      "source": [
        "dfHurtoPersonas.drop(\n",
        "    columns=[\"color\",\n",
        "             \"categoria_penal\",\n",
        "             \"articulo_penal\",\n",
        "             \"caracterizacion\",\n",
        "             \"testigo\",\n",
        "             \"nivel_academico\",\n",
        "             \"grupo_especial\",\n",
        "             \"discapacidad\"\n",
        "             \"\"\n",
        "\n",
        "\n",
        "\n",
        "])\n",
        "\n"
      ],
      "metadata": {
        "id": "MuTaljVxaXEI"
      },
      "execution_count": null,
      "outputs": []
    },
    {
      "cell_type": "code",
      "source": [
        "dfHurtoPersonas.shape"
      ],
      "metadata": {
        "id": "b_OaQYpHaetV"
      },
      "execution_count": null,
      "outputs": []
    },
    {
      "cell_type": "code",
      "source": [
        "dfHurtosBarrio = dfHurtoPersonas.groupby(\"nombre_barrio\")[\"edad\"].mean().sort_values(ascending=False)\n",
        "dfHurtosBarrio"
      ],
      "metadata": {
        "id": "9Alc7FrxadtF"
      },
      "execution_count": null,
      "outputs": []
    },
    {
      "cell_type": "code",
      "source": [
        "dfHurtosBarrio.loc[\"La Candelaria\"]"
      ],
      "metadata": {
        "id": "e0p4S3o-3RyG"
      },
      "execution_count": null,
      "outputs": []
    },
    {
      "cell_type": "code",
      "source": [
        "dfHurtoPersonas[dfHurtoPersonas.nombre_barrio==\"Facultad de Minas U. Nacional\"] #Registros que corresponden a un dato en especifico"
      ],
      "metadata": {
        "id": "qzsGJyF97Awl"
      },
      "execution_count": null,
      "outputs": []
    },
    {
      "cell_type": "markdown",
      "source": [
        "# Imputacion de datos multivariantes"
      ],
      "metadata": {
        "id": "aRj-FfCN8Iyk"
      }
    },
    {
      "cell_type": "code",
      "source": [
        "dfLlenadoNumerico"
      ],
      "metadata": {
        "id": "-jrK8SY28H4H"
      },
      "execution_count": null,
      "outputs": []
    },
    {
      "cell_type": "code",
      "source": [
        "import matplotlib.pyplot as plt #Importar libreria matplotlib\n",
        "\n",
        "plt.figure(figsize=(3,2)) # configurar el tamaño del grafico\n",
        "plt.hist(dfHurtoPersonas.edad) # Le aplico al histograma a mi conjunto de datos"
      ],
      "metadata": {
        "id": "spY6tJqD83pA"
      },
      "execution_count": null,
      "outputs": []
    },
    {
      "cell_type": "code",
      "source": [
        "!pip install miceforest"
      ],
      "metadata": {
        "collapsed": true,
        "id": "CKwPWmn3_yFX"
      },
      "execution_count": null,
      "outputs": []
    },
    {
      "cell_type": "code",
      "source": [
        "import miceforest as mf\n",
        "from sklearn.datasets import load_iris\n",
        "from sklearn import datasets\n",
        "import numpy as np\n",
        "iris=datasets.load_iris()"
      ],
      "metadata": {
        "id": "fMGEmmDCBx38"
      },
      "execution_count": null,
      "outputs": []
    },
    {
      "cell_type": "code",
      "source": [
        "iris"
      ],
      "metadata": {
        "id": "TbGVzdg3C8e8"
      },
      "execution_count": null,
      "outputs": []
    },
    {
      "cell_type": "code",
      "source": [
        "dfIris = pd.DataFrame(data=iris.data,\n",
        "                      columns=iris.feature_names)\n",
        "dfIris[\"target\"] = iris.target\n",
        "dfIris"
      ],
      "metadata": {
        "id": "zHQTylHbDtDb"
      },
      "execution_count": null,
      "outputs": []
    },
    {
      "cell_type": "code",
      "source": [
        "dfIris.rename({\"target\":\"species\"},inplace=True,axis=1)\n",
        "dfIris"
      ],
      "metadata": {
        "id": "P3Tf_CpvD4_d"
      },
      "execution_count": null,
      "outputs": []
    },
    {
      "cell_type": "code",
      "source": [
        "dfIris[\"species\"]=dfIris[\"species\"].astype(\"category\")\n",
        "dfIris.info()"
      ],
      "metadata": {
        "id": "lIOamYlCKye3"
      },
      "execution_count": null,
      "outputs": []
    },
    {
      "cell_type": "code",
      "source": [
        "dfIrisAmp = mf.ampute_data(dfIris, perc=0.25,random_state=100) #asigno valores nulos aleatoriamente\n",
        "dfIrisAmp"
      ],
      "metadata": {
        "id": "XRIXDhJENdlG"
      },
      "execution_count": null,
      "outputs": []
    },
    {
      "cell_type": "code",
      "source": [
        "kds = mf.ImputationKernel(\n",
        "    dfIrisAmp,\n",
        "    random_state=100\n",
        ")\n",
        "kds.mice(2)\n",
        "\n",
        "dfIrisCompleto = kds.complete_data()\n",
        "dfIrisCompleto"
      ],
      "metadata": {
        "id": "q_cJgop-O394"
      },
      "execution_count": null,
      "outputs": []
    },
    {
      "cell_type": "code",
      "source": [],
      "metadata": {
        "id": "Pe6K1qSjQO7B"
      },
      "execution_count": null,
      "outputs": []
    },
    {
      "cell_type": "code",
      "source": [
        "import matplotlib.pyplot as plt\n",
        "\n",
        "x=[1,2,3,4,5] #Datos entrada eje X\n",
        "y=[5,1,3,2,5] #Datos entrada eje y\n",
        "\n",
        "plt.figure(figsize=(3,2)) #Asignaicon el tamaño de la grafica\n",
        "plt.plot(x,y) # Graficamos los puntos del eje X y Y\n",
        "plt.title(\"Correlacion Positiva\", fontsize=10) #Titulo de la grafica\n",
        "plt.xlabel(\"Eje X\", fontsize=10) #titulo eje x\n",
        "plt.ylabel(\"Eje Y\", fontsize=10) #titulo eje y\n",
        "plt.show() # imprimir grafica"
      ],
      "metadata": {
        "id": "bvbDJQsjYZgv"
      },
      "execution_count": null,
      "outputs": []
    },
    {
      "cell_type": "code",
      "source": [
        "plt.figure(figsize=(10,10)) #Asignaicon el tamaño de la grafica\n",
        "plt.plot(dfHurtosBarrio, color=\"red\") # Graficamos los puntos del eje X y Y\n",
        "plt.title(\"Edades hurto personas\", fontsize=10) #Titulo de la grafica\n",
        "plt.xlabel(\"Eje X\", fontsize=10) #titulo eje x\n",
        "plt.ylabel(\"Eje Y\", fontsize=10) #titulo eje y\n",
        "plt.show() # imprimir grafica"
      ],
      "metadata": {
        "id": "53Ukhvv5avbI"
      },
      "execution_count": null,
      "outputs": []
    },
    {
      "cell_type": "markdown",
      "source": [
        "# Series de tiempo"
      ],
      "metadata": {
        "id": "NKDftx5M5Iwf"
      }
    },
    {
      "cell_type": "code",
      "source": [
        "##Transformacion de fecha hecho\n",
        "\n",
        "dfFecha = pd.Series(df[\"fecha_hecho\"])\n",
        "dfFecha"
      ],
      "metadata": {
        "id": "TMBvpdzud57E"
      },
      "execution_count": null,
      "outputs": []
    },
    {
      "cell_type": "code",
      "source": [
        "dfFecha = dfFecha.str.split(\"T\")\n",
        "dfFecha"
      ],
      "metadata": {
        "id": "tdTODQqSeRzs"
      },
      "execution_count": null,
      "outputs": []
    },
    {
      "cell_type": "code",
      "source": [
        "#Separacion de fechas y horas\n",
        "dfFecha = pd.DataFrame(dfFecha)\n",
        "dfFecha = pd.DataFrame(dfFecha.fecha_hecho.values.tolist(),index=dfFecha.index,columns=[\"Fecha\",\"Hora\"])\n",
        "dfFecha\n",
        "dfFecha"
      ],
      "metadata": {
        "id": "EtSzRNiJfl_Y"
      },
      "execution_count": null,
      "outputs": []
    },
    {
      "cell_type": "code",
      "source": [
        "#Transformar de Dataframe a Datatime\n",
        "\n",
        "dfFechaDateTime = pd.to_datetime(dfFecha[\"Fecha\"],format=\"%Y-%m-%d\")"
      ],
      "metadata": {
        "id": "SFAdTYuLj3et"
      },
      "execution_count": null,
      "outputs": []
    },
    {
      "cell_type": "code",
      "source": [
        "dfFechaDateMes = dfFechaDateTime.dt.month\n",
        "dfFechaDateMes"
      ],
      "metadata": {
        "id": "I50JG0EpkbnW"
      },
      "execution_count": null,
      "outputs": []
    },
    {
      "cell_type": "code",
      "source": [
        "dfFechaDateDia = dfFechaDateTime.dt.weekday\n",
        "dfFechaDateDia"
      ],
      "metadata": {
        "id": "6wmo5PlRm5id"
      },
      "execution_count": null,
      "outputs": []
    },
    {
      "cell_type": "code",
      "source": [
        "#Crear histograma sobre los dias\n",
        "\n",
        "import seaborn as sns\n",
        "import matplotlib.pyplot as plt\n",
        "\n"
      ],
      "metadata": {
        "id": "ZF63SrwInHjo"
      },
      "execution_count": null,
      "outputs": []
    },
    {
      "cell_type": "code",
      "source": [
        "dfFechaDateDia = pd.DataFrame(dfFechaDateDia)"
      ],
      "metadata": {
        "id": "3MohPWn7oiVo"
      },
      "execution_count": null,
      "outputs": []
    },
    {
      "cell_type": "code",
      "source": [
        "sns.histplot(data=dfFechaDateDia, x=\"Fecha\", stat=\"count\")\n",
        "plt.xticks(rotation=90)\n",
        "plt.show()"
      ],
      "metadata": {
        "id": "O7l7ZqI0oNs6"
      },
      "execution_count": null,
      "outputs": []
    },
    {
      "cell_type": "code",
      "source": [
        "dfFechaDateMes = pd.DataFrame(dfFechaDateMes)\n"
      ],
      "metadata": {
        "id": "eMyDKIZGpvVa"
      },
      "execution_count": null,
      "outputs": []
    },
    {
      "cell_type": "code",
      "source": [
        "sns.histplot(data=dfFechaDateMes, x=\"Fecha\", stat=\"count\")\n",
        "plt.xticks(rotation=90)\n",
        "plt.show()"
      ],
      "metadata": {
        "id": "m2KLGWAmpuaw"
      },
      "execution_count": null,
      "outputs": []
    },
    {
      "cell_type": "code",
      "source": [
        "dfFechaAnio=dfFechaDateTime.dt.year\n",
        "dfFechaAnio\n",
        "dfFechaAnio = pd.DataFrame(dfFechaAnio)\n"
      ],
      "metadata": {
        "id": "FSxQtFAorNaQ"
      },
      "execution_count": null,
      "outputs": []
    },
    {
      "cell_type": "code",
      "source": [
        "sns.histplot(data=dfFechaAnio, x=\"Fecha\", stat=\"count\", bins=10, kde=True)\n",
        "plt.xticks(rotation=90)\n",
        "plt.show()"
      ],
      "metadata": {
        "id": "Y6CJ300DrZwv"
      },
      "execution_count": null,
      "outputs": []
    },
    {
      "cell_type": "code",
      "source": [
        "dfFechaAgr = dfFecha.groupby(\"Fecha\").size()\n",
        "dfFechaAgr"
      ],
      "metadata": {
        "id": "8hG60nWSu6Yo"
      },
      "execution_count": null,
      "outputs": []
    },
    {
      "cell_type": "code",
      "source": [
        "#Calcular autocorrelacion de la serie de tiempo\n",
        "\n",
        "from statsmodels.graphics.tsaplots import plot_acf\n",
        "\n",
        "plt.figure(figsize=(12,6))\n",
        "plot_acf(dfFechaAgr)\n",
        "plt.xlabel(\"Lags\")\n",
        "plt.ylabel(\"Autocorrelacion\")\n",
        "plt.title(\"Autocorelation Function  (AFC) Plot\")\n",
        "plt.show()"
      ],
      "metadata": {
        "id": "4e5MXtmHusyT"
      },
      "execution_count": null,
      "outputs": []
    },
    {
      "cell_type": "code",
      "source": [
        "#Retorna todos los valores unicos de la columna nombre barrio\n",
        "\n",
        "barrios=pd.DataFrame(df[\"nombre_barrio\"])\n",
        "\n",
        "import pandas as pd\n",
        "barrios = pd.unique(barrios.nombre_barrio)\n",
        "barrios\n",
        "\n",
        "#Ordena los barrrios\n"
      ],
      "metadata": {
        "colab": {
          "base_uri": "https://localhost:8080/"
        },
        "id": "i-uHlfZV8RzV",
        "outputId": "a42caab8-b5ee-4977-96f8-101242bbe98b"
      },
      "execution_count": null,
      "outputs": [
        {
          "output_type": "execute_result",
          "data": {
            "text/plain": [
              "array(['El Pomar', 'La Rosa', 'La Isla', 'Guayaquil',\n",
              "       'Manrique Central No.1', 'Campo Amor', 'Pajarito',\n",
              "       'Trece de Noviembre', 'Aranjuez', 'San Benito', 'Estadio',\n",
              "       'Doce de Octubre No.1', 'Estación Villa', 'Caribe', 'Moscú No.1',\n",
              "       'San Pablo', 'La Cruz', 'Tejelo', 'Las Acacias', 'Aures No.2',\n",
              "       'Nueva Villa del Aburrá', 'Miraflores', 'Loreto', 'San Diego',\n",
              "       'Corazón de Jesús', 'Andalucía', 'Prado',\n",
              "       'Área Urbana Cgto. San Antonio de Prado', 'Rosales',\n",
              "       'Campo Valdés No.1', 'El Chagualo', 'El Danubio', 'Miranda',\n",
              "       'Antonio Nariño', 'El Salvador', 'Los Ángeles', 'Barrio Colón',\n",
              "       'Área de expansión Pajarito', 'Trinidad', 'La Mota', 'Monteclaro',\n",
              "       'Villa Carlota', 'Bomboná No.2', 'Las Palmas', 'Progreso',\n",
              "       'Cristo Rey', 'Bosques de San Pablo', 'Los Conquistadores',\n",
              "       'El Diamante', 'Villa Nueva', 'Área Urbana Cgto. San Cristóbal',\n",
              "       'Castilla', 'El Socorro', 'Boyacá', 'Santa Fé', 'San Joaquín',\n",
              "       'Sucre', 'Santa Inés', 'Villa Lilliam', 'Universidad de Antioquia',\n",
              "       'Los Mangos', 'Buenos Aires', 'Perpetuo Socorro', 'Calle Nueva',\n",
              "       'Barrio Colombia', 'La Florida', 'Barrios de Jesús',\n",
              "       'Universidad Nacional', 'Mazo', 'Aures No.1', 'Moravia', 'Gerona',\n",
              "       'La Pilarica', 'Cuarta Brigada', 'Manila', 'Sevilla',\n",
              "       'San Javier No.2', 'El Pinal', 'Toscana', 'Simón Bolívar',\n",
              "       'Cucaracho', 'La Avanzada', 'Picacho', 'Manrique Central No.2',\n",
              "       'Tricentenario', 'La Pradera', 'Naranjal', 'Córdoba',\n",
              "       'Jesús Nazareno', 'Las Lomas No.1', 'Boston', 'San Miguel',\n",
              "       'La Aguacatala', 'Florida Nueva', 'Jardín Botánico', 'Calasanz',\n",
              "       'Belén', 'Los Colores', 'La Esperanza', 'Fátima', 'La Frontera',\n",
              "       'Enciso', 'Las Playas', 'Santa María de los Ángeles', 'Palermo',\n",
              "       'Granada', 'El Raizal', 'La Milagrosa', 'La Palma',\n",
              "       'La Candelaria', 'Belencito', 'La Hondonada', 'Berlin',\n",
              "       'Héctor Abad Gómez', 'La Loma de los Bernal', 'Altamira',\n",
              "       'San Martín de Porres', 'La Salle', 'Las Estancias',\n",
              "       'Playón de los Comuneros', 'Las Granjas', 'Tenche', 'La América',\n",
              "       'Cerro Nutibara', 'Palenque', 'Girardot', 'San Pedro',\n",
              "       'Bermejal-Los Alamos', 'Lorena', 'Los Alpes', 'Manrique Oriental',\n",
              "       'Suramericana', 'Los Alcázares', 'Cataluña', 'La Francia',\n",
              "       'La Alpujarra', 'Área de expansión San Antonio De Prado',\n",
              "       'Doce de Octubre No.2', 'Patio Bonito', 'Villa Niza',\n",
              "       'El Velódromo', 'Villa Guadalupe', 'Oleoducto', 'Bello Horizonte',\n",
              "       'Altos del Poblado', 'Alejandro Echavarría', 'Villa Flora',\n",
              "       'López de Mesa', 'Terminal de Transporte', 'Las Mercedes',\n",
              "       'San Bernardo', 'San Javier No.1', 'Facultad de Minas U. Nal',\n",
              "       'La Floresta', 'Miravalle', 'La Libertad', 'Belalcázar',\n",
              "       'La Mansión', 'Asomadera No.1', 'Santander', 'Laureles',\n",
              "       'La Gloria', 'Popular', 'Santa Mónica', 'Campo Valdés No.2',\n",
              "       'Francisco Antonio Zea', 'Guayabal', 'Carlos E. Restrepo',\n",
              "       'Robledo', 'Barrio Cristóbal', 'Bolivariana', 'El Poblado',\n",
              "       'Alfonso López', 'Castropol', 'Los Pinos',\n",
              "       'U.D. Atanasio Girardot', 'Parque Juan Pablo II', 'La Piñuela',\n",
              "       'La Castellana', 'Barrio Caycedo', 'Bomboná No.1', 'Florencia',\n",
              "       'Alejandría', 'Santa Teresita', 'El Rincón', 'Lalinde',\n",
              "       'San Isidro', 'Santa Lucía', 'Pedregal', 'Santa Cruz',\n",
              "       'Villa del Socorro', 'El Nogal-Los Almendros', 'El Rodeo',\n",
              "       'Altavista', 'Diego Echavarría', 'La Ladera', 'Villa Hermosa',\n",
              "       'Brasilia', 'Villatina', 'Cerro Nutibara Ins.',\n",
              "       'Los Cerros el Vergel', 'B. Cerro el Volador', 'Kennedy',\n",
              "       'Las Brisas', 'Santa Rosa de Lima', 'Hospital San Vicente de Paúl',\n",
              "       'San Germán', 'El Castillo', 'Santa Margarita', 'Parque Norte',\n",
              "       'El Tesoro', 'Los Balsos No.1', 'Campo Alegre', 'Los Balsos No.2',\n",
              "       'La Colina', 'Boqueron', 'La Palma S.C.', 'Sin dato',\n",
              "       'Calasania Parte Alta', 'Plaza de Ferias', 'Las Lomas No.2',\n",
              "       'Centro Administrativo', 'Ferrini', 'Veinte de Julio',\n",
              "       'Los Naranjos', 'Versalles No.1', 'San José la Cima No.2',\n",
              "       'Juan XXIIIi la Quiebra', 'Astorga', 'El Salado', 'Las Esmeraldas',\n",
              "       'Granizal', 'Eduardo Santos', 'Llanaditas',\n",
              "       'Santo Domingo Savio No.1', 'El Diamante No.2', 'El Carmelo',\n",
              "       'El Pesebre', 'Versalles No.2', 'El Corazón',\n",
              "       'María Cano-Carambolas', 'Blanquizal', 'El Corazon el Morro',\n",
              "       'Metropolitano', 'San José la Cima No.1',\n",
              "       'Nueva Villa de la Iguaná', 'Fac. Veterinaria y Zootecnia U.De.A.',\n",
              "       'La Esperanza No.2', 'El Compromiso', 'Progreso No.2',\n",
              "       'Olaya Herrera', 'El Plan', 'La Loma', 'Buga Patio Bonito',\n",
              "       'Ocho de Marzo', 'Pedregal Alto', 'Santo Domingo Savio No.2',\n",
              "       'Travesias', 'Juan Pablo II', 'Media Luna', 'Pablo VI',\n",
              "       'Santa Elena sector central', 'Yarumalito',\n",
              "       'Nuevos Conquistadores', 'El Llano Santa Elena', 'San Antonio',\n",
              "       'Las Playas S.C.', 'U.P.B', 'El Jardin', 'El Picacho',\n",
              "       'El Yolombo', 'San Lucas', 'Las Palmas S.E.', 'Fuente Clara',\n",
              "       'Ecoparque Cerro El Volador', 'Las Violetas',\n",
              "       'Piedras Blancas Matasano', 'Cementerio Universal',\n",
              "       'Área de expansión Altavista', 'La Esperanza A.V.', 'Oriente',\n",
              "       'Las Independencias', 'Moscú No.2', 'Betania', 'Aldea Pablo VI',\n",
              "       'Asomadera No.2', 'La Aldea', 'La Cuchilla', 'Potrerito',\n",
              "       'El Triunfo', 'Mirador del Doce', 'San Pablo A.V.',\n",
              "       'San Jose del Manzanillo', 'Aguas Frias',\n",
              "       'Altavista Sector Central', 'Carpinelo', 'Villa Turbay',\n",
              "       'Picachito', 'Sin dato 10 La Candelaria', 'Asomadera No.3',\n",
              "       'La Sierra', 'Facultad de Minas U. Nacional',\n",
              "       'Área de expansión Belén', 'La Ilusion', 'Potrera Miserenga',\n",
              "       'Batallón Girardot', 'Batallón Cuarta Brigada',\n",
              "       'Sin dato 7 Robledo', 'Pajarito S.C.', 'Piedra Gorda',\n",
              "       'Sin dato 90 Santa Elena', 'Montanita', 'El Llano',\n",
              "       'Área de expansión Calasanz', 'San Jose de La Montaña',\n",
              "       'Sin dato 50 Palmitas', 'Urquita', 'La Verde', 'La Florida S.A.P.',\n",
              "       'Palmitas sector central', 'Naranjal S.C.',\n",
              "       'Sin dato 60 San Cristobal', 'El Placer', 'Volcana Guayabal',\n",
              "       'V. El Salado', 'Sin dato 80 San Antonio de Prado', 'El Uvito',\n",
              "       'San Jose', 'Barro Blanco', 'El Patio', 'Sin dato 13 San Javier',\n",
              "       'Sin dato 6 Doce de Octubre', 'Sin dato 9 Buenos Aires',\n",
              "       'Sin dato 16 Belen', 'La Frisola', 'Sin dato 3 Manrique'],\n",
              "      dtype=object)"
            ]
          },
          "metadata": {},
          "execution_count": 19
        }
      ]
    },
    {
      "cell_type": "code",
      "source": [
        "#Convertir todos los caractees a minuscula\n",
        "df.nombre_barrio = df.nombre_barrio.str.lower()\n",
        "\n",
        "#Quitar espacios en blanco al final\n",
        "df.nombre_barrio = df.nombre_barrio.str.strip()\n",
        "df.nombre_barrio"
      ],
      "metadata": {
        "id": "MVUCb6XT8wLC"
      },
      "execution_count": null,
      "outputs": []
    },
    {
      "cell_type": "code",
      "source": [
        "##Importar librerias para identificar registros similairez\n",
        "!pip install fuzzywuzzy\n"
      ],
      "metadata": {
        "colab": {
          "base_uri": "https://localhost:8080/"
        },
        "id": "67KzA37a9ARj",
        "outputId": "045260af-9424-440c-cb48-e52e9ffe94ef"
      },
      "execution_count": null,
      "outputs": [
        {
          "output_type": "stream",
          "name": "stdout",
          "text": [
            "Collecting fuzzywuzzy\n",
            "  Downloading fuzzywuzzy-0.18.0-py2.py3-none-any.whl.metadata (4.9 kB)\n",
            "Downloading fuzzywuzzy-0.18.0-py2.py3-none-any.whl (18 kB)\n",
            "Installing collected packages: fuzzywuzzy\n",
            "Successfully installed fuzzywuzzy-0.18.0\n"
          ]
        }
      ]
    },
    {
      "cell_type": "code",
      "source": [
        "import fuzzywuzzy\n",
        "from fuzzywuzzy import process\n",
        "import charset_normalizer"
      ],
      "metadata": {
        "colab": {
          "base_uri": "https://localhost:8080/"
        },
        "id": "Qb4v6v9U_qPG",
        "outputId": "186e8f23-917d-4f56-b980-c71613ebe2b7"
      },
      "execution_count": null,
      "outputs": [
        {
          "output_type": "stream",
          "name": "stderr",
          "text": [
            "/usr/local/lib/python3.11/dist-packages/fuzzywuzzy/fuzz.py:11: UserWarning: Using slow pure-python SequenceMatcher. Install python-Levenshtein to remove this warning\n",
            "  warnings.warn('Using slow pure-python SequenceMatcher. Install python-Levenshtein to remove this warning')\n"
          ]
        }
      ]
    },
    {
      "cell_type": "code",
      "source": [
        "#Get the tio 10 closest matches to \"Sout Korea\"\n",
        "\n",
        "matches = fuzzywuzzy.process.extract(\"naranjal\",barrios, limit=10,scorer=fuzzywuzzy.fuzz.token_sort_ratio)\n",
        "matches\n"
      ],
      "metadata": {
        "id": "j9AjU_voAGxQ"
      },
      "execution_count": null,
      "outputs": []
    },
    {
      "cell_type": "code",
      "source": [
        "barrios.replace(\"San Javier No.2\",\"San Javier\", inplace = True)\n",
        "barrios.replace(\"Campo Valdés No.1'\",\"Campo Valdés\", inplace = True)\n"
      ],
      "metadata": {
        "id": "CRZPkuD0HnO1"
      },
      "execution_count": null,
      "outputs": []
    },
    {
      "cell_type": "code",
      "source": [
        "#Realizar histograma de hurto personas por edades\n",
        "plt.figure(figsize=(10,10)) #Asignaicon el tamaño de la grafica\n",
        "plt.hist(dfHurtoPersonas.edad, color=\"red\") # Graficamos los puntos del eje X y Y"
      ],
      "metadata": {
        "colab": {
          "base_uri": "https://localhost:8080/",
          "height": 917
        },
        "id": "5WxpYvCqqIgb",
        "outputId": "bbf1ca1f-8cd3-42cd-a106-0dec6ef353f1"
      },
      "execution_count": null,
      "outputs": [
        {
          "output_type": "execute_result",
          "data": {
            "text/plain": [
              "(array([4.76800e+03, 5.82010e+04, 1.36697e+05, 7.47020e+04, 3.62320e+04,\n",
              "        1.33920e+04, 2.27400e+03, 2.20000e+02, 0.00000e+00, 3.00000e+00]),\n",
              " array([ -1. ,  11.2,  23.4,  35.6,  47.8,  60. ,  72.2,  84.4,  96.6,\n",
              "        108.8, 121. ]),\n",
              " <BarContainer object of 10 artists>)"
            ]
          },
          "metadata": {},
          "execution_count": 25
        },
        {
          "output_type": "display_data",
          "data": {
            "text/plain": [
              "<Figure size 1000x1000 with 1 Axes>"
            ],
            "image/png": "[encoded data removed]"
          },
          "metadata": {}
        }
      ]
    },
    {
      "cell_type": "code",
      "source": [
        "#Creacion de histograma para medios de trasnsporte segmentado por sexo\n",
        "\n",
        "import seaborn as sns\n",
        "\n",
        "sns.histplot(\n",
        "    data=df,              # Indico el dataframe\n",
        "    x=\"medio_transporte\", # Indico los medios de transporte\n",
        "    hue=\"sexo\",           # Categorias que visualiza\n",
        "    multiple=\"stack\")     # Apilar categorias\n",
        "plt.xticks(rotation=90)\n",
        "plt.show()"
      ],
      "metadata": {
        "colab": {
          "base_uri": "https://localhost:8080/",
          "height": 612
        },
        "id": "M8H1CALar_b-",
        "outputId": "b2c204e1-ed73-47cd-81fe-026209a23f1a"
      },
      "execution_count": null,
      "outputs": [
        {
          "output_type": "display_data",
          "data": {
            "text/plain": [
              "<Figure size 640x480 with 1 Axes>"
            ],
            "image/png": "[encoded data removed]"
          },
          "metadata": {}
        }
      ]
    },
    {
      "cell_type": "code",
      "source": [
        "#Histograma de modalida de hurto\n",
        "plt.hist(df[\"modalidad\"], color=\"red\")\n",
        "plt.xticks(rotation=90)\n",
        "plt.show()"
      ],
      "metadata": {
        "colab": {
          "base_uri": "https://localhost:8080/",
          "height": 673
        },
        "id": "1Z6bau4mvGef",
        "outputId": "9abc103d-8708-42ec-ec3e-b405ace30e0f"
      },
      "execution_count": null,
      "outputs": [
        {
          "output_type": "display_data",
          "data": {
            "text/plain": [
              "<Figure size 640x480 with 1 Axes>"
            ],
            "image/png": "[encoded data removed]"
          },
          "metadata": {}
        }
      ]
    },
    {
      "cell_type": "code",
      "source": [
        "#Diagrama de distribucion\n",
        "\n",
        "sns.displot(data=df, x=\"edad\", hue=\"estado_civil\", multiple=\"stack\")\n",
        "plt.xticks(rotation=90)\n",
        "plt.show()"
      ],
      "metadata": {
        "colab": {
          "base_uri": "https://localhost:8080/",
          "height": 519
        },
        "id": "Gpp3k9yK2RCr",
        "outputId": "3664615d-cd8c-43bb-b959-7b4e8bd46bb9"
      },
      "execution_count": null,
      "outputs": [
        {
          "output_type": "display_data",
          "data": {
            "text/plain": [
              "<Figure size 712.375x500 with 1 Axes>"
            ],
            "image/png": "[encoded data removed]"
          },
          "metadata": {}
        }
      ]
    },
    {
      "cell_type": "code",
      "source": [
        "# Grafico de cajas para relacion entre sexo y edad\n",
        "plt.figure(figsize=(10,10))\n",
        "sns.boxplot(x=df[\"sexo\"], y=df[\"edad\"], palette=\"pastel\")\n",
        "plt.xticks(rotation=90)\n",
        "plt.title(\"Distribucion en hurto de personas para  edad por sexo\", fontsize=14)\n",
        "plt.xlabel(\"Sexo\", fontsize=12)\n",
        "plt.ylabel(\"Edad\")\n",
        "plt.show()"
      ],
      "metadata": {
        "colab": {
          "base_uri": "https://localhost:8080/",
          "height": 1000
        },
        "id": "Z8TmoTyTHURW",
        "outputId": "155c0c77-886d-4998-b665-c36a29799cd8"
      },
      "execution_count": null,
      "outputs": [
        {
          "output_type": "stream",
          "name": "stderr",
          "text": [
            "<ipython-input-50-808a73f2ebde>:3: FutureWarning: \n",
            "\n",
            "Passing `palette` without assigning `hue` is deprecated and will be removed in v0.14.0. Assign the `x` variable to `hue` and set `legend=False` for the same effect.\n",
            "\n",
            "  sns.boxplot(x=df[\"sexo\"], y=df[\"edad\"], palette=\"pastel\")\n"
          ]
        },
        {
          "output_type": "display_data",
          "data": {
            "text/plain": [
              "<Figure size 1000x1000 with 1 Axes>"
            ],
            "image/png": "[encoded data removed]"
          },
          "metadata": {}
        }
      ]
    },
    {
      "cell_type": "code",
      "source": [
        "import matplotlib.pyplot as plt\n",
        "import seaborn as sns\n",
        "import pandas as pd\n",
        "\n",
        "plt.figure(figsize=(8,5))\n",
        "sns.boxplot(\n",
        "    #x=df[\"estado_civil\"],\n",
        "   # y=df[\"edad\"],\n",
        "    x=df[\"edad\"],\n",
        "    y=df[\"estado_civil\"],\n",
        "    palette=\"pastel\"\n",
        "\n",
        ")\n",
        "plt.xticks(rotation=90)\n",
        "plt.title(\"Distribucion en hurto de personas para  edad por estado civil\", fontsize=14)\n",
        "plt.xlabel(\"Estado civil\", fontsize=12)\n",
        "plt.ylabel(\"Edad\")\n",
        "plt.show()\n"
      ],
      "metadata": {
        "colab": {
          "base_uri": "https://localhost:8080/",
          "height": 591
        },
        "id": "a2z1qyzm6aXY",
        "outputId": "6d4c847a-3ba9-4e53-84a5-f07d4939959b"
      },
      "execution_count": 7,
      "outputs": [
        {
          "output_type": "stream",
          "name": "stderr",
          "text": [
            "<ipython-input-7-925c69a5973f>:6: FutureWarning: \n",
            "\n",
            "Passing `palette` without assigning `hue` is deprecated and will be removed in v0.14.0. Assign the `y` variable to `hue` and set `legend=False` for the same effect.\n",
            "\n",
            "  sns.boxplot(\n"
          ]
        },
        {
          "output_type": "display_data",
          "data": {
            "text/plain": [
              "<Figure size 800x500 with 1 Axes>"
            ],
            "image/png": "[encoded data removed]"
          },
          "metadata": {}
        }
      ]
    },
    {
      "cell_type": "markdown",
      "source": [],
      "metadata": {
        "id": "CUEBNQy2_HS0"
      }
    },
    {
      "cell_type": "code",
      "source": [
        "#Grafico sin apilar categorias\n",
        "\n",
        "sns.catplot(\n",
        "    data=df,\n",
        "    x=\"estado_civil\",\n",
        "    y=\"edad\",\n",
        "    hue=\"sexo\",\n",
        "    kind=\"bar\"\n",
        ")\n",
        "plt.xticks(rotation=90)\n",
        "plt.show()"
      ],
      "metadata": {
        "colab": {
          "base_uri": "https://localhost:8080/",
          "height": 655
        },
        "id": "YsnF9mX5D3xF",
        "outputId": "3959fb68-05f7-4b2b-91e9-d49f1cb77420"
      },
      "execution_count": 11,
      "outputs": [
        {
          "output_type": "display_data",
          "data": {
            "text/plain": [
              "<Figure size 607.25x500 with 1 Axes>"
            ],
            "image/png": "[encoded data removed]"
          },
          "metadata": {}
        }
      ]
    },
    {
      "cell_type": "code",
      "source": [
        "#Grafico de modalidad de hurto en edades y haciendo ensasis en sexo\n",
        "\n",
        "sns.catplot(\n",
        "    data=df.head(10), #Se segmenta por los 10 primeros registros\n",
        "    x=\"modalidad\",\n",
        "    y=\"edad\",\n",
        "    hue=\"sexo\",\n",
        "    kind=\"bar\"\n",
        ")\n",
        "plt.xticks(rotation=90)\n",
        "plt.show()"
      ],
      "metadata": {
        "colab": {
          "base_uri": "https://localhost:8080/",
          "height": 541
        },
        "id": "YLZ5xqnLEQmM",
        "outputId": "8a16edd8-8cdb-4535-dd2c-780fa3f26869"
      },
      "execution_count": 13,
      "outputs": [
        {
          "output_type": "display_data",
          "data": {
            "text/plain": [
              "<Figure size 605.25x500 with 1 Axes>"
            ],
            "image/png": "[encoded data removed]"
          },
          "metadata": {}
        }
      ]
    }
  ]
}